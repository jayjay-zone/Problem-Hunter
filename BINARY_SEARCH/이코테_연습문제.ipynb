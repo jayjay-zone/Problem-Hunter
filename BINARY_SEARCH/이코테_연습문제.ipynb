{
 "cells": [
  {
   "cell_type": "markdown",
   "id": "fe8b64ab",
   "metadata": {},
   "source": [
    "## 떡볶이 떡 만들기"
   ]
  },
  {
   "cell_type": "code",
   "execution_count": 16,
   "id": "ee75cfe0",
   "metadata": {},
   "outputs": [],
   "source": [
    "n, m = 4,6\n",
    "tteok_arr = [19, 15, 10, 17]\n",
    "search_arr = [i for i in range(0, max(tteok_arr))]"
   ]
  },
  {
   "cell_type": "code",
   "execution_count": 13,
   "id": "a8e15c6c",
   "metadata": {},
   "outputs": [],
   "source": [
    "def tteok_length(H, arr):\n",
    "    \"\"\"\n",
    "    손님한테 줄 떡의 총 길이\n",
    "    \"\"\"\n",
    "    res = 0\n",
    "    for a in arr:\n",
    "        res+=max(0, a - H)\n",
    "    return res"
   ]
  },
  {
   "cell_type": "code",
   "execution_count": 10,
   "id": "e3ba56b9",
   "metadata": {},
   "outputs": [
    {
     "data": {
      "text/plain": [
       "6"
      ]
     },
     "execution_count": 10,
     "metadata": {},
     "output_type": "execute_result"
    }
   ],
   "source": [
    "tteok_length_for_customer(15, tteok_arr)"
   ]
  },
  {
   "cell_type": "code",
   "execution_count": null,
   "id": "745d4718",
   "metadata": {},
   "outputs": [],
   "source": [
    "def bin_search(arr, st, end, target):\n",
    "    if st > end:\n",
    "        return None\n",
    "    mid = (st+end)//2\n",
    "    if tteok_length(arr[mid], tteok_arr) == target:\n",
    "        return mid\n",
    "    elif tteok_length(arr[mid], tteok_arr) > target:\n",
    "        st = "
   ]
  },
  {
   "cell_type": "code",
   "execution_count": null,
   "id": "b52f6e2c",
   "metadata": {},
   "outputs": [],
   "source": []
  },
  {
   "cell_type": "code",
   "execution_count": null,
   "id": "e00fa918",
   "metadata": {},
   "outputs": [],
   "source": []
  },
  {
   "cell_type": "code",
   "execution_count": null,
   "id": "47bdde8d",
   "metadata": {},
   "outputs": [],
   "source": []
  },
  {
   "cell_type": "code",
   "execution_count": null,
   "id": "e2963d48",
   "metadata": {},
   "outputs": [],
   "source": []
  },
  {
   "cell_type": "code",
   "execution_count": null,
   "id": "2b148d0e",
   "metadata": {},
   "outputs": [],
   "source": []
  }
 ],
 "metadata": {
  "kernelspec": {
   "display_name": "tf20",
   "language": "python",
   "name": "python3"
  },
  "language_info": {
   "codemirror_mode": {
    "name": "ipython",
    "version": 3
   },
   "file_extension": ".py",
   "mimetype": "text/x-python",
   "name": "python",
   "nbconvert_exporter": "python",
   "pygments_lexer": "ipython3",
   "version": "3.8.13"
  }
 },
 "nbformat": 4,
 "nbformat_minor": 5
}
