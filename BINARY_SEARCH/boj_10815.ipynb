{
 "cells": [
  {
   "cell_type": "code",
   "execution_count": 1,
   "id": "respected-council",
   "metadata": {},
   "outputs": [
    {
     "name": "stdout",
     "output_type": "stream",
     "text": [
      "5\n"
     ]
    }
   ],
   "source": [
    "N = int(input())\n",
    "nums = list(map(int, input().split()))\n",
    "M = int(input())\n",
    "nums2 = list(map(int, input().split()))"
   ]
  },
  {
   "cell_type": "code",
   "execution_count": 65,
   "id": "understood-atlas",
   "metadata": {},
   "outputs": [
    {
     "name": "stdout",
     "output_type": "stream",
     "text": [
      "5\n",
      "6 3 2 10 -10\n",
      "8\n",
      "10 9 -5 2 3 4 5 -10\n",
      "1 0 0 1 1 0 0 1 "
     ]
    }
   ],
   "source": [
    "import sys \n",
    "sys.setrecursionlimit(10**9)\n",
    "\n",
    "N = int(input())\n",
    "nums = list(map(int, input().split()))\n",
    "M = int(input())\n",
    "nums2 = list(map(int, input().split()))\n",
    "\n",
    "nums = sorted(nums)\n",
    "\n",
    "def bin_search(arr, tgt, st, end):\n",
    "    if st > end:\n",
    "        return None\n",
    "    mid = (st+end)//2\n",
    "    if tgt > arr[mid]:\n",
    "        return bin_search(arr, tgt, mid+1, end)\n",
    "    elif tgt < arr[mid]:\n",
    "        return bin_search(arr, tgt, st, mid-1)\n",
    "    elif tgt == arr[mid]:\n",
    "        return True\n",
    "       \n",
    "for n in nums2:\n",
    "    if bin_search(nums, n, 0, len(nums)):\n",
    "        print(1, end=' ')\n",
    "    else:\n",
    "        print(0, end=' ')\n",
    "    "
   ]
  },
  {
   "cell_type": "code",
   "execution_count": 59,
   "id": "athletic-tablet",
   "metadata": {},
   "outputs": [],
   "source": []
  },
  {
   "cell_type": "code",
   "execution_count": 64,
   "id": "owned-april",
   "metadata": {},
   "outputs": [
    {
     "name": "stdout",
     "output_type": "stream",
     "text": [
      "1 0\n",
      "0\n",
      "1 1 0\n",
      "0\n",
      "1 "
     ]
    }
   ],
   "source": []
  },
  {
   "cell_type": "code",
   "execution_count": null,
   "id": "hundred-rally",
   "metadata": {},
   "outputs": [],
   "source": []
  },
  {
   "cell_type": "code",
   "execution_count": null,
   "id": "flying-beijing",
   "metadata": {},
   "outputs": [],
   "source": []
  },
  {
   "cell_type": "code",
   "execution_count": null,
   "id": "swiss-vampire",
   "metadata": {},
   "outputs": [],
   "source": []
  },
  {
   "cell_type": "code",
   "execution_count": null,
   "id": "rolled-cabinet",
   "metadata": {},
   "outputs": [],
   "source": []
  },
  {
   "cell_type": "code",
   "execution_count": null,
   "id": "incredible-television",
   "metadata": {},
   "outputs": [],
   "source": []
  },
  {
   "cell_type": "code",
   "execution_count": null,
   "id": "taken-speed",
   "metadata": {},
   "outputs": [],
   "source": []
  },
  {
   "cell_type": "code",
   "execution_count": null,
   "id": "fancy-mountain",
   "metadata": {},
   "outputs": [],
   "source": []
  }
 ],
 "metadata": {
  "kernelspec": {
   "display_name": "Python 3",
   "language": "python",
   "name": "python3"
  },
  "language_info": {
   "codemirror_mode": {
    "name": "ipython",
    "version": 3
   },
   "file_extension": ".py",
   "mimetype": "text/x-python",
   "name": "python",
   "nbconvert_exporter": "python",
   "pygments_lexer": "ipython3",
   "version": "3.8.8"
  }
 },
 "nbformat": 4,
 "nbformat_minor": 5
}
