{
 "cells": [
  {
   "cell_type": "markdown",
   "id": "c49e435e",
   "metadata": {},
   "source": [
    "https://www.acmicpc.net/problem/18352"
   ]
  },
  {
   "cell_type": "markdown",
   "id": "e307d5db",
   "metadata": {},
   "source": [
    "### 18352"
   ]
  },
  {
   "cell_type": "markdown",
   "id": "2fda3d21",
   "metadata": {},
   "source": [
    "### trial 1\n",
    "손코딩 한 것"
   ]
  },
  {
   "cell_type": "code",
   "execution_count": 13,
   "id": "c741b24a",
   "metadata": {},
   "outputs": [
    {
     "name": "stdout",
     "output_type": "stream",
     "text": [
      "4 4 1 1\n",
      "1 2\n",
      "1 3\n",
      "2 3\n",
      "2 4\n"
     ]
    }
   ],
   "source": [
    "from collections import deque\n",
    "\n",
    "N, M, K, X = map(int, input().split())\n",
    "graph = [[] for _ in range(N+1)]\n",
    "\n",
    "for _ in range(M): # edge 개수\n",
    "    x,y = map(int, input().split())\n",
    "    graph[x].append(y)\n",
    "    \n",
    "visited = [False]* (N+1)\n",
    "to_visit = deque([])\n",
    "dist = 0 #이동한 거리\n",
    "\n",
    "\n",
    "def bfs(node, graph, visited, to_visit, dist):\n",
    "    ans = []\n",
    "    to_visit.append((node, dist))\n",
    "    visited[node] = True\n",
    "    while len(to_visit) > 0:\n",
    "        v, dist = to_visit.popleft()\n",
    "        dist += 1\n",
    "        for i in graph[v]:\n",
    "            if not visited[i]:\n",
    "                to_visit.append((i, dist))\n",
    "                visited[i] = True\n",
    "                if dist == K:\n",
    "                    ans.append(i)\n",
    "    return ans\n",
    "\n",
    "\n",
    "ans = bfs(X, graph, visited, to_visit, dist)\n",
    "\n",
    "if len(ans) == 0:\n",
    "    print(-1)\n",
    "else:\n",
    "    for i in sorted(ans, reverse=False):\n",
    "        print(i)\n",
    "                    "
   ]
  },
  {
   "cell_type": "markdown",
   "id": "d695d7b4",
   "metadata": {},
   "source": [
    "시간 초과... pypy3로는 통과함...흠.. 왜 시간초과가 발생했을까?"
   ]
  },
  {
   "cell_type": "markdown",
   "id": "5e2653d3",
   "metadata": {},
   "source": [
    "### 시간 복잡도를 따져보자"
   ]
  },
  {
   "cell_type": "code",
   "execution_count": null,
   "id": "a17195c3",
   "metadata": {},
   "outputs": [],
   "source": []
  }
 ],
 "metadata": {
  "kernelspec": {
   "display_name": "BP023",
   "language": "python",
   "name": "venv"
  },
  "language_info": {
   "codemirror_mode": {
    "name": "ipython",
    "version": 3
   },
   "file_extension": ".py",
   "mimetype": "text/x-python",
   "name": "python",
   "nbconvert_exporter": "python",
   "pygments_lexer": "ipython3",
   "version": "3.9.10"
  }
 },
 "nbformat": 4,
 "nbformat_minor": 5
}
