{
 "cells": [
  {
   "cell_type": "markdown",
   "id": "emerging-poultry",
   "metadata": {},
   "source": [
    "답안이랑 비슷하게 풀긴했는데... count를 어떻게 처리할 지 몰라서 우왕좌좡!!!"
   ]
  },
  {
   "cell_type": "markdown",
   "id": "infrared-cross",
   "metadata": {},
   "source": [
    "### bfs"
   ]
  },
  {
   "cell_type": "code",
   "execution_count": 6,
   "id": "acknowledged-shopper",
   "metadata": {},
   "outputs": [
    {
     "name": "stdout",
     "output_type": "stream",
     "text": [
      "4 4\n",
      "----\n",
      "----\n",
      "----\n",
      "----\n",
      "16\n"
     ]
    }
   ],
   "source": [
    "from collections import deque\n",
    "def bfs(a,b):\n",
    "    deq = deque([(a,b)])\n",
    "    while len(deq) > 0:\n",
    "        x,y = deq.popleft()\n",
    "        if graph[x][y] == '-':\n",
    "            graph[x][y] = 1 # 방문 처리\n",
    "            new_y = y + 1\n",
    "            if new_y < m and graph[x][y] == '-':\n",
    "                deq.append((x,new_y))\n",
    "        elif graph[x][y] == '|':\n",
    "            graph[x][y] = 1\n",
    "            new_x = x + 1\n",
    "            if new_x < n and graph[new_x][y] == '|':\n",
    "                deq.append((new_x, y))\n",
    "                \n",
    "\n",
    "n, m = map(int,input().split())\n",
    "cnt = 0\n",
    "graph = [list(input()) for _ in range(n)]\n",
    "\n",
    "for i in range(n):\n",
    "    for j in range(m):\n",
    "        if graph[i][j] != \"1\":\n",
    "            bfs(i,j)\n",
    "            cnt+=1\n",
    "print(cnt)\n"
   ]
  },
  {
   "cell_type": "markdown",
   "id": "horizontal-charge",
   "metadata": {},
   "source": [
    "### DFS"
   ]
  },
  {
   "cell_type": "code",
   "execution_count": 7,
   "id": "alert-frost",
   "metadata": {},
   "outputs": [],
   "source": [
    "def dfs(x,y):\n",
    "    if graph[x][y] == '-':\n",
    "        graph[x][y] == 1 #해당 노드 방문처리\n",
    "        for dy in [1,-1]: #좌우 확인\n",
    "            new_y = y + dy\n",
    "            if 0 < new_y < m and graph[x][y] == '-':\n",
    "                dfs(x,new_y)\n",
    "    if graph[x][y] == '|':\n",
    "        graph[x][y] = 1 #해당 노드 방문처리\n",
    "        for dx in [1,-1]: #상하 확인\n",
    "            new_x = x + dx\n",
    "            if 0 < new_x < n and graph[x][y] == '|':\n",
    "                dfs(new_x,y)\n",
    "                \n",
    "n, m = map(int, input().split())\n",
    "graph = []\n",
    "for _ in range(n):\n",
    "    graph.append(list(input()))\n",
    "    \n",
    "cnt = 0\n",
    "for i in range(n):\n",
    "    for j in range(m):\n",
    "        #이미 방문한 노드는 1로 변환하였으니, 무늬가 남은 노드는 방문하지 않은 노드이다!\n",
    "        if graph[i][j] == '-' or graph[i][j] == '|': \n",
    "            dfs(i,j)\n",
    "            cnt +=1"
   ]
  },
  {
   "cell_type": "markdown",
   "id": "environmental-airfare",
   "metadata": {},
   "source": [
    "# ~근데 답을 봐도 왜 cnt가 저렇게 되는지 모르겠다! sb!~\n",
    "\n",
    "문제 이해가 부족했던 거였다!\n",
    "두개씩만 하나의 타일로 간주한다고 이해했는데, 그냥 ------ 계속 되면 되는 대로 하나의 타일로 간주하는 거였다.. sb!\n",
    "\n",
    "그래서 dfs 재귀가 끝날때마다 카운트를 늘렸던 거구나..."
   ]
  },
  {
   "cell_type": "markdown",
   "id": "mobile-mystery",
   "metadata": {},
   "source": [
    "근데, 결국 위의 풀이들은 틀렸거나, 재귀 리미트를 넘어서 탈락했다. ~인터넷 허위 정보를 믿지 말자~\n",
    "다음 풀이만이 통과되었다.."
   ]
  },
  {
   "cell_type": "code",
   "execution_count": null,
   "id": "designing-limit",
   "metadata": {},
   "outputs": [],
   "source": [
    "n, m = map(int, input().split())\n",
    "li = [input() for _ in range(n)]\n",
    "cnt = 0\n",
    "for i in range(n): # 세로를 따로보고\n",
    "    j = 0\n",
    "    while j < m:\n",
    "        if li[i][j] == '|':\n",
    "            j += 1\n",
    "        else:\n",
    "            cnt += 1\n",
    "            while j < m and li[i][j] == '-':\n",
    "                j += 1\n",
    "for j in range(m): #가로를 따로보고\n",
    "    i = 0\n",
    "    while i < n:\n",
    "        if li[i][j] == '-':\n",
    "            i += 1\n",
    "        else:\n",
    "            cnt += 1\n",
    "            while i < n and li[i][j] == '|':\n",
    "                i += 1\n",
    "print(cnt)"
   ]
  },
  {
   "cell_type": "markdown",
   "id": "unsigned-journalist",
   "metadata": {},
   "source": [
    "### 나의 작고 쓸모없는 풀이"
   ]
  },
  {
   "cell_type": "code",
   "execution_count": null,
   "id": "basic-irish",
   "metadata": {},
   "outputs": [],
   "source": [
    "from collections import deque,defaultdict\n",
    "\n",
    "visited = defaultdict(int)\n",
    "\n",
    "def bfs(graph, x, y, to_visit, visited):    \n",
    "    to_visit = deque([x,y])\n",
    "    visited[(x,y)]=1\n",
    "    while len(to_visit) > 0:\n",
    "        x,y = to_visit.popleft()\n",
    "        v = graph[x][y]\n",
    "        if (x,y) not in visited:\n",
    "            visited[(x,y)]+=1\n",
    "            for dx, dy in dir_dic[v]:\n",
    "                new_x, new_y = x+dx, y+dy\n",
    "                if 0 < new_x < n and 0 < new_y < m and graph[dx][dy] == v:\n",
    "                    bfs(graph, new_x, new_y, to_visit, visited)"
   ]
  },
  {
   "cell_type": "code",
   "execution_count": null,
   "id": "danish-survivor",
   "metadata": {},
   "outputs": [],
   "source": []
  },
  {
   "cell_type": "code",
   "execution_count": null,
   "id": "thirty-factory",
   "metadata": {},
   "outputs": [],
   "source": []
  },
  {
   "cell_type": "code",
   "execution_count": null,
   "id": "welcome-violence",
   "metadata": {},
   "outputs": [],
   "source": []
  },
  {
   "cell_type": "code",
   "execution_count": null,
   "id": "heated-ridge",
   "metadata": {},
   "outputs": [],
   "source": []
  },
  {
   "cell_type": "code",
   "execution_count": null,
   "id": "relevant-lafayette",
   "metadata": {},
   "outputs": [],
   "source": []
  },
  {
   "cell_type": "code",
   "execution_count": null,
   "id": "social-convert",
   "metadata": {},
   "outputs": [],
   "source": []
  }
 ],
 "metadata": {
  "kernelspec": {
   "display_name": "venv",
   "language": "python",
   "name": "venv"
  },
  "language_info": {
   "codemirror_mode": {
    "name": "ipython",
    "version": 3
   },
   "file_extension": ".py",
   "mimetype": "text/x-python",
   "name": "python",
   "nbconvert_exporter": "python",
   "pygments_lexer": "ipython3",
   "version": "3.8.8"
  }
 },
 "nbformat": 4,
 "nbformat_minor": 5
}
