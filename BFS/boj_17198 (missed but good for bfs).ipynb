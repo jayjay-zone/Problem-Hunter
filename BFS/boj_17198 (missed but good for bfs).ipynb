{
 "cells": [
  {
   "cell_type": "markdown",
   "id": "active-debut",
   "metadata": {},
   "source": [
    "### bucket bridge"
   ]
  },
  {
   "cell_type": "markdown",
   "id": "behind-imaging",
   "metadata": {},
   "source": [
    "농장에 불이나서 소들이 불을 끄려고 한다. \n",
    "농장은 10x10 칸의 격자로 이루어져 있고 다음과 같은 문자로 표현된다.\n",
    "\n"
   ]
  },
  {
   "cell_type": "markdown",
   "id": "blessed-auditor",
   "metadata": {},
   "source": [
    "..........<br>\n",
    "..........<br>\n",
    "..........<br>\n",
    "..B.......<br>\n",
    "..........<br>\n",
    ".....R....<br>\n",
    "..........<br>\n",
    "..........<br>\n",
    ".....L....<br>\n",
    "..........<br>"
   ]
  },
  {
   "cell_type": "markdown",
   "id": "dangerous-alabama",
   "metadata": {},
   "source": [
    "B라는 글자는 헛간(barn)을 의미하고, 방금 불이 붙은 지점이다. \n",
    "L이라는 글자는 강가(lake)를 의미하고, R은 커다란 돌(rock)이 있는 지점이다.\n",
    "소들은 bucket bridge를 만들어서, 강과 헛간 사이에 자신들 스스로를 일렬로 위치시키고 싶어한다\n",
    "그래야 강에서 물을 퍼서 양동이를 패스하는 것이 불을 끌 수 있는 방법이기 때문이다. \n",
    "양동이는 인접한 소들 간에 이동할 수 있으며, 동,서,남,북 방향으로 연결해있을 때 인접해있다고 한다.\n",
    "강가 바로 옆에있는 소에게도 마찬가지로 적용된다. 강에 인접해 있어야 양동이로 물을 퍼올릴 수 있다.\n",
    "비슷하게, 헛간에 인접하지 않으면 물을 부을 수 없다.\n",
    "\n",
    "성공적인 bucket bridge를 만들어서 소들이 위치하게 될 '.' 문자의 사각형의의 최소 갯수를 구하여라.\n",
    "소들은 커다란 돌이 있는 지역에는 위치할 수 없고, 헛간과 강가는 서로 인접하지 않을 것을 보장한다.\n",
    "                                                  "
   ]
  },
  {
   "cell_type": "markdown",
   "id": "further-niger",
   "metadata": {},
   "source": [
    "### L -> B으로 가는 최단 경로 \n",
    "### bfs로 풀어야 하는 이유! \n",
    "- 각 경로 마다 직전 cnt에 1을 더해가면서 가야되는데 dfs 는 되나?...\n",
    "- 먼저 방문하면 바로 끝을 낼 수 있음. 긍까, cnt를 노드에 저장해 가면서 이동하는데, cnt가 미리 박힌 노드는 방문하지 못하므로, 가장 빨리 도착하면 바로 함수가 끝난다. 이건 dfs도 비슷한가?..."
   ]
  },
  {
   "cell_type": "code",
   "execution_count": 6,
   "id": "quick-haiti",
   "metadata": {},
   "outputs": [
    {
     "name": "stdout",
     "output_type": "stream",
     "text": [
      "..........\n",
      "..........\n",
      "..........\n",
      "..B.......\n",
      "..........\n",
      ".....R....\n",
      "..........\n",
      "..........\n",
      ".....L....\n",
      "..........\n"
     ]
    }
   ],
   "source": [
    "graph1 = []\n",
    "for _ in range(10):\n",
    "    graph1.append(list(input()))"
   ]
  },
  {
   "cell_type": "code",
   "execution_count": 84,
   "id": "burning-harmony",
   "metadata": {},
   "outputs": [],
   "source": [
    "import copy\n",
    "graph = copy.deepcopy(graph1)"
   ]
  },
  {
   "cell_type": "markdown",
   "id": "future-murray",
   "metadata": {},
   "source": [
    "# 노드 안에 cnt를 기록하는 구나..."
   ]
  },
  {
   "cell_type": "code",
   "execution_count": 85,
   "id": "searching-testimony",
   "metadata": {},
   "outputs": [],
   "source": [
    "from collections import deque\n",
    "\n",
    "directions = [[-1,0],[0,1],[1,0],[0,-1]]\n",
    "\n",
    "def bfs(x, y):\n",
    "    to_visit = deque([])\n",
    "    to_visit.append([x,y])\n",
    "    graph[x][y] = 0\n",
    "    while len(to_visit) > 0:\n",
    "        x, y = to_visit.popleft()\n",
    "        for i in range(4):\n",
    "            dx, dy = directions[i]\n",
    "            new_x, new_y = x+dx, y+dy\n",
    "            if 0 <= new_x <10 and 0 <= new_y < 10:\n",
    "                if graph[new_x][new_y] == 'L':\n",
    "                    return graph[x][y]\n",
    "                if graph[new_x][new_y] == '.':\n",
    "                    to_visit.append([new_x,new_y]) #다음에 방문한다\n",
    "                    graph[new_x][new_y]= graph[x][y]+1\n",
    "                    \n",
    "\n",
    "for i in range(10):\n",
    "    for j in range(10):\n",
    "        if graph[i][j] == 'B':\n",
    "            res = bfs(i,j)"
   ]
  },
  {
   "cell_type": "code",
   "execution_count": 86,
   "id": "desperate-hobby",
   "metadata": {},
   "outputs": [
    {
     "data": {
      "text/plain": [
       "7"
      ]
     },
     "execution_count": 86,
     "metadata": {},
     "output_type": "execute_result"
    }
   ],
   "source": [
    "res"
   ]
  },
  {
   "cell_type": "code",
   "execution_count": 87,
   "id": "alternate-developer",
   "metadata": {},
   "outputs": [
    {
     "data": {
      "text/plain": [
       "[[5, 4, 3, 4, 5, 6, 7, 8, '.', '.'],\n",
       " [4, 3, 2, 3, 4, 5, 6, 7, 8, '.'],\n",
       " [3, 2, 1, 2, 3, 4, 5, 6, 7, 8],\n",
       " [2, 1, 0, 1, 2, 3, 4, 5, 6, 7],\n",
       " [3, 2, 1, 2, 3, 4, 5, 6, 7, 8],\n",
       " [4, 3, 2, 3, 4, 'R', 6, 7, 8, '.'],\n",
       " [5, 4, 3, 4, 5, 6, 7, 8, '.', '.'],\n",
       " [6, 5, 4, 5, 6, 7, 8, '.', '.', '.'],\n",
       " [7, 6, 5, 6, 7, 'L', '.', '.', '.', '.'],\n",
       " ['.', 7, 6, 7, '.', '.', '.', '.', '.', '.']]"
      ]
     },
     "execution_count": 87,
     "metadata": {},
     "output_type": "execute_result"
    }
   ],
   "source": [
    "graph"
   ]
  },
  {
   "cell_type": "code",
   "execution_count": 67,
   "id": "concerned-eleven",
   "metadata": {},
   "outputs": [
    {
     "data": {
      "text/plain": [
       "1"
      ]
     },
     "execution_count": 67,
     "metadata": {},
     "output_type": "execute_result"
    }
   ],
   "source": [
    "x"
   ]
  },
  {
   "cell_type": "markdown",
   "id": "supreme-residence",
   "metadata": {},
   "source": [
    "# 실패"
   ]
  },
  {
   "cell_type": "code",
   "execution_count": 49,
   "id": "quantitative-candy",
   "metadata": {},
   "outputs": [],
   "source": [
    "directions = [[-1,0],[0,1],[1,0],[0,-1]]\n",
    "\n",
    "def dfs(x,y, start_node, cnt):\n",
    "    dic = {'B':'L', 'L':'B'}\n",
    "    if graph[x][y] == dic[start_node]:\n",
    "        return cnt\n",
    "    to_visit = [[x,y, cnt]]    \n",
    "    while len(to_visit) > 0:\n",
    "        x,y, cnt = to_visit.pop()\n",
    "        v = graph[x][y] \n",
    "        if v in ['.','B','L']:\n",
    "            if v == '.': # 소가 위치할 수 있는 노드인지 확인\n",
    "                graph[x][y] = 'c' # 소를 위치시킨다\n",
    "                cnt +=1\n",
    "                print(cnt)\n",
    "            for i in range(4):\n",
    "                dx, dy = directions[i]\n",
    "                new_x, new_y = x+dx, y+dy\n",
    "                if 0 < new_x <10 and 0 < new_y < 10 and graph[new_x][new_y] not in ['R','c']:\n",
    "                    dfs(new_x, new_y, start_node, cnt)\n",
    "                "
   ]
  },
  {
   "cell_type": "code",
   "execution_count": 45,
   "id": "another-alexander",
   "metadata": {},
   "outputs": [],
   "source": [
    "res"
   ]
  },
  {
   "cell_type": "code",
   "execution_count": 46,
   "id": "comic-progress",
   "metadata": {},
   "outputs": [
    {
     "data": {
      "text/plain": [
       "[['.', '.', '.', '.', '.', '.', '.', '.', '.', '.'],\n",
       " ['.', 'c', 'c', 'c', 'c', 'c', 'c', 'c', 'c', 'c'],\n",
       " ['.', 'c', 'c', 'c', 'c', 'c', 'c', 'c', 'c', 'c'],\n",
       " ['.', 'c', 'B', 'c', 'c', 'c', 'c', 'c', 'c', 'c'],\n",
       " ['.', 'c', 'c', 'c', 'c', 'c', 'c', 'c', 'c', 'c'],\n",
       " ['.', 'c', 'c', 'c', 'c', 'R', 'c', 'c', 'c', 'c'],\n",
       " ['.', 'c', 'c', 'c', 'c', 'c', 'c', 'c', 'c', 'c'],\n",
       " ['.', 'c', 'c', 'c', 'c', 'c', 'c', 'c', 'c', 'c'],\n",
       " ['.', 'c', 'c', 'c', 'c', 'L', 'c', 'c', 'c', 'c'],\n",
       " ['.', 'c', 'c', 'c', 'c', 'c', 'c', 'c', 'c', 'c']]"
      ]
     },
     "execution_count": 46,
     "metadata": {},
     "output_type": "execute_result"
    }
   ],
   "source": [
    "graph"
   ]
  },
  {
   "cell_type": "code",
   "execution_count": null,
   "id": "intense-partner",
   "metadata": {},
   "outputs": [],
   "source": [
    "stack.    pop        adj\n",
    "[0          0      -> 2,1\n",
    "[2, 1       1      -> 3,4\n",
    "[2, 3, 4    4      -> x\n",
    "[2, 3       3      -> x\n",
    "[2          2      -> 5,6\n",
    "[5, 6       6      -> x\n",
    "[5          5      -> x\n",
    "[ \n",
    "end    "
   ]
  },
  {
   "cell_type": "code",
   "execution_count": null,
   "id": "opposed-significance",
   "metadata": {},
   "outputs": [],
   "source": [
    "\n",
    "# 시간 제한 2초 \n",
    "# 1초에 1억"
   ]
  },
  {
   "cell_type": "code",
   "execution_count": null,
   "id": "periodic-syntax",
   "metadata": {},
   "outputs": [],
   "source": []
  },
  {
   "cell_type": "code",
   "execution_count": null,
   "id": "regulation-kingdom",
   "metadata": {},
   "outputs": [],
   "source": []
  },
  {
   "cell_type": "code",
   "execution_count": null,
   "id": "pharmaceutical-garbage",
   "metadata": {},
   "outputs": [],
   "source": []
  },
  {
   "cell_type": "code",
   "execution_count": null,
   "id": "brilliant-behalf",
   "metadata": {},
   "outputs": [],
   "source": []
  },
  {
   "cell_type": "code",
   "execution_count": null,
   "id": "unavailable-israel",
   "metadata": {},
   "outputs": [],
   "source": []
  },
  {
   "cell_type": "code",
   "execution_count": null,
   "id": "complicated-bacon",
   "metadata": {},
   "outputs": [],
   "source": []
  }
 ],
 "metadata": {
  "kernelspec": {
   "display_name": "Python 3",
   "language": "python",
   "name": "python3"
  },
  "language_info": {
   "codemirror_mode": {
    "name": "ipython",
    "version": 3
   },
   "file_extension": ".py",
   "mimetype": "text/x-python",
   "name": "python",
   "nbconvert_exporter": "python",
   "pygments_lexer": "ipython3",
   "version": "3.8.8"
  }
 },
 "nbformat": 4,
 "nbformat_minor": 5
}
