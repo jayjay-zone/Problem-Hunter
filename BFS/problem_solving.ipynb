{
 "cells": [
  {
   "cell_type": "markdown",
   "id": "internal-agency",
   "metadata": {},
   "source": [
    "https://www.acmicpc.net/problem/1697"
   ]
  },
  {
   "cell_type": "markdown",
   "id": "physical-making",
   "metadata": {},
   "source": [
    "### 1697\n",
    "수빈이는 동생과 숨바꼭질을 하고 있다. 수빈이는 현재 점 N(0 ≤ N ≤ 100,000)에 있고, 동생은 점 K(0 ≤ K ≤ 100,000)에 있다. 수빈이는 걷거나 순간이동을 할 수 있다. 만약, 수빈이의 위치가 X일 때 걷는다면 1초 후에 X-1 또는 X+1로 이동하게 된다. 순간이동을 하는 경우에는 1초 후에 2*X의 위치로 이동하게 된다.\n",
    "\n",
    "수빈이와 동생의 위치가 주어졌을 때, **수빈이가 동생을 찾을 수 있는 가장 빠른 시간**이 몇 초 후인지 구하는 프로그램을 작성하시오.\n",
    "\n",
    "**입력** 첫 번째 줄에 수빈이가 있는 위치 N과 동생이 있는 위치 K가 주어진다. N과 K는 정수이다.\n",
    "\n",
    "**출력**\n",
    "수빈이가 동생을 찾는 가장 빠른 시간을 출력한다."
   ]
  },
  {
   "cell_type": "markdown",
   "id": "becoming-convergence",
   "metadata": {},
   "source": [
    "### 문제 해석\n",
    "- 수빈이가 동생을 찾을 수 있는 가장 빠른 시간 = 수빈노드가 동생노드로 가는 가장 빠른 경로\n",
    "- 5에서 17로 가는 방법\n",
    "    - X=5 -> (걷기) X=6 or 4 -> X=7 or 5...\n",
    "    - x=5 -> (순간이동) x=10 -> x = 20...\n",
    "- 그래프를 나타내면, \n",
    "    - graph[5] = [4, 10]\n",
    "    - graph[6] = [5, 12]\n",
    "    \n",
    "- start_node = 수빈이의 위치 (N)"
   ]
  },
  {
   "cell_type": "code",
   "execution_count": null,
   "id": "institutional-receiver",
   "metadata": {},
   "outputs": [],
   "source": [
    "N, K = 5, 17\n",
    "ans = 4\n",
    "\n",
    "graph = [[]]*(N) #0부터 시작\n",
    "for i in range(N, K):\n",
    "    graph.append([i-1, i+1, 2*i]) # 걷기, 순간이동\n",
    "visited = [False]*(len(graph))\n",
    "\n"
   ]
  },
  {
   "cell_type": "code",
   "execution_count": null,
   "id": "static-visiting",
   "metadata": {},
   "outputs": [],
   "source": [
    "def bfs(graph, node, visited, time):\n",
    "    to_visit = deque([node]) # 시작노드를 방문할 큐에 넣어준다\n",
    "    visited[node] = True # 방문한다\n",
    "    time+=1\n",
    "    while len(to_visit) > 0:\n",
    "        v = to_visit.popleft() # 방문할 큐에서 노드를 하나 뺀다\n",
    "        print(v, end='->')\n",
    "        for i in graph[v]: #현재 방문한 노드 기준 다음 노드를 확인한다\n",
    "            if i < len(visited) and not visited[i]: # 다음 노드를 방문하지 않았다면,\n",
    "                to_visit.append(i)\n",
    "                visited[i] = True # 방문해준다\n",
    "                time+=1\n",
    "                if i == K:\n",
    "                    print(i, end = ',')\n",
    "                    break\n",
    "    return time"
   ]
  },
  {
   "cell_type": "code",
   "execution_count": null,
   "id": "reported-strand",
   "metadata": {},
   "outputs": [],
   "source": [
    "start= N\n",
    "time = 0\n",
    "bfs(graph, start, visited, time)"
   ]
  }
 ],
 "metadata": {
  "kernelspec": {
   "display_name": "Python 3",
   "language": "python",
   "name": "python3"
  },
  "language_info": {
   "codemirror_mode": {
    "name": "ipython",
    "version": 3
   },
   "file_extension": ".py",
   "mimetype": "text/x-python",
   "name": "python",
   "nbconvert_exporter": "python",
   "pygments_lexer": "ipython3",
   "version": "3.8.8"
  }
 },
 "nbformat": 4,
 "nbformat_minor": 5
}
