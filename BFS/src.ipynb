{
 "cells": [
  {
   "cell_type": "code",
   "execution_count": 2,
   "id": "downtown-dollar",
   "metadata": {},
   "outputs": [],
   "source": [
    "from collections import deque"
   ]
  },
  {
   "cell_type": "markdown",
   "id": "conceptual-jumping",
   "metadata": {},
   "source": [
    "https://www.acmicpc.net/problem/1697"
   ]
  },
  {
   "cell_type": "markdown",
   "id": "reasonable-rainbow",
   "metadata": {},
   "source": [
    "### 1697\n",
    "수빈이는 동생과 숨바꼭질을 하고 있다. 수빈이는 현재 점 N(0 ≤ N ≤ 100,000)에 있고, 동생은 점 K(0 ≤ K ≤ 100,000)에 있다. 수빈이는 걷거나 순간이동을 할 수 있다. 만약, 수빈이의 위치가 X일 때 걷는다면 1초 후에 X-1 또는 X+1로 이동하게 된다. 순간이동을 하는 경우에는 1초 후에 2*X의 위치로 이동하게 된다.\n",
    "\n",
    "수빈이와 동생의 위치가 주어졌을 때, **수빈이가 동생을 찾을 수 있는 가장 빠른 시간**이 몇 초 후인지 구하는 프로그램을 작성하시오.\n",
    "\n",
    "**입력** 첫 번째 줄에 수빈이가 있는 위치 N과 동생이 있는 위치 K가 주어진다. N과 K는 정수이다.\n",
    "\n",
    "**출력**\n",
    "수빈이가 동생을 찾는 가장 빠른 시간을 출력한다."
   ]
  },
  {
   "cell_type": "markdown",
   "id": "regulation-frequency",
   "metadata": {},
   "source": [
    "### 문제 해석\n",
    "- 수빈이가 동생을 찾을 수 있는 가장 빠른 시간 = 수빈노드가 동생노드로 가는 가장 빠른 경로에서 노드 개수*시간(1초)\n",
    "- 5에서 17로 가는 방법\n",
    "    - X=5 -> (걷기) X=6 or 4 -> X=7 or 5...\n",
    "    - x=5 -> (순간이동) x=10 -> x = 20...\n",
    "- 그래프를 나타내면, \n",
    "    - graph[5] = [4, 10]\n",
    "    - graph[6] = [5, 12]\n",
    "    \n",
    "- start_node = 수빈이의 위치 (N)"
   ]
  },
  {
   "cell_type": "markdown",
   "id": "analyzed-andrew",
   "metadata": {},
   "source": [
    "### 예시 해석\n",
    "- 5 -> 17로 갈 때, 어떻게 하면 4번만에 갈 수 있을까?\n",
    "    - 5 -> 4 -> 8 -> 16 -> 17 \n",
    "- 이걸 어떻게 bfs로 구현할 수 있을까?"
   ]
  },
  {
   "cell_type": "markdown",
   "id": "oriental-tobacco",
   "metadata": {},
   "source": [
    "# Note\n",
    "**shallow copy and deep copy**"
   ]
  },
  {
   "cell_type": "markdown",
   "id": "standard-grenada",
   "metadata": {},
   "source": [
    "다음과 같이 graph를 만들었을 때, 문제가 발생!!"
   ]
  },
  {
   "cell_type": "code",
   "execution_count": 42,
   "id": "charged-income",
   "metadata": {},
   "outputs": [],
   "source": [
    "N, K = 5, 17\n",
    "ans = 4\n",
    "\n",
    "graph = [[]]*(N) #0부터 시작\n",
    "for i in range(N):\n",
    "    next_position = [i-1, i+1, 2*i]\n",
    "    graph[i].extend(next_position) # 걷기, 순간이동\n",
    "    break\n",
    "visited = [False]*(K)"
   ]
  },
  {
   "cell_type": "markdown",
   "id": "attempted-judge",
   "metadata": {},
   "source": [
    "graph의 천번째 인덱스에만 next_position을 extend 하고 break했는데, 왜 결과는 전체 인덱스에 다 extend되었을까? <br>"
   ]
  },
  {
   "cell_type": "code",
   "execution_count": 43,
   "id": "voluntary-storage",
   "metadata": {},
   "outputs": [
    {
     "data": {
      "text/plain": [
       "[[-1, 1, 0], [-1, 1, 0], [-1, 1, 0], [-1, 1, 0], [-1, 1, 0]]"
      ]
     },
     "execution_count": 43,
     "metadata": {},
     "output_type": "execute_result"
    }
   ],
   "source": [
    "graph"
   ]
  },
  {
   "cell_type": "markdown",
   "id": "vocal-battery",
   "metadata": {},
   "source": [
    "느낌이 쎄해서 바로 주소값을 찍어보았다..<br>\n",
    "파이썬의 nested list는 shallow copy라는 것을 까먹고 있었다.."
   ]
  },
  {
   "cell_type": "code",
   "execution_count": 36,
   "id": "rising-equivalent",
   "metadata": {},
   "outputs": [
    {
     "data": {
      "text/plain": [
       "(140620724629888, 140620724629888)"
      ]
     },
     "execution_count": 36,
     "metadata": {},
     "output_type": "execute_result"
    }
   ],
   "source": [
    "id(graph[0]), id(graph[1])"
   ]
  },
  {
   "cell_type": "markdown",
   "id": "accessory-creature",
   "metadata": {},
   "source": [
    "graph를 빈 리스트로 만들고, 새로운 next position 리스트가 생길때마다 append를 해주었다."
   ]
  },
  {
   "cell_type": "code",
   "execution_count": 54,
   "id": "accredited-audit",
   "metadata": {},
   "outputs": [],
   "source": [
    "N, K = 5, 17\n",
    "ans = 4\n",
    "\n",
    "graph = []\n",
    "for i in range(K):\n",
    "    next_position = [i-1, i+1, 2*i]\n",
    "    graph.append(next_position) # 걷기, 순간이동\n",
    "    break\n",
    "visited = [False]*(K)"
   ]
  },
  {
   "cell_type": "code",
   "execution_count": 55,
   "id": "authentic-correspondence",
   "metadata": {},
   "outputs": [
    {
     "data": {
      "text/plain": [
       "[[-1, 1, 0]]"
      ]
     },
     "execution_count": 55,
     "metadata": {},
     "output_type": "execute_result"
    }
   ],
   "source": [
    "graph"
   ]
  },
  {
   "cell_type": "code",
   "execution_count": null,
   "id": "daily-kidney",
   "metadata": {},
   "outputs": [],
   "source": []
  },
  {
   "cell_type": "code",
   "execution_count": null,
   "id": "theoretical-jason",
   "metadata": {},
   "outputs": [],
   "source": []
  },
  {
   "cell_type": "code",
   "execution_count": null,
   "id": "threatened-custody",
   "metadata": {},
   "outputs": [],
   "source": []
  },
  {
   "cell_type": "markdown",
   "id": "smooth-stability",
   "metadata": {},
   "source": [
    "# Solution"
   ]
  },
  {
   "cell_type": "markdown",
   "id": "sporting-colleague",
   "metadata": {},
   "source": [
    "### trial1\n",
    "\n",
    "- 처음에 접근을 잘못했다. 갈 수있는 경로들의 최단 거리를 구해야 되는데, 그냥 무작정 BFS만 돌려버렸으니...\n",
    "- 최단 경로라는 것을 알기 위해, 15에 도달할 때까지의 경로들의 시간을 측정해야 했다.\n",
    "- 다음의 블로그를 참고했다.\n",
    "https://chanhuiseok.github.io/posts/baek-14/\n",
    "\n",
    "<u>큐에 처음 들어갈 때 그 위치에 도달했을 때 걸린 시간도 같이 넣어주기 위해 pair<int, int> 형 큐를 선언</u>\n"
   ]
  },
  {
   "cell_type": "code",
   "execution_count": 37,
   "id": "further-albany",
   "metadata": {},
   "outputs": [],
   "source": [
    "def bfs(graph, node, visited, time):\n",
    "    to_visit = deque([(node, time)]) # 시작노드를 방문할 큐에 넣어준다\n",
    "    visited[node] = True # 방문한다\n",
    "    \n",
    "    while len(to_visit) > 0:\n",
    "        v, t = to_visit.popleft() # 방문할 큐에서 노드를 하나 뺀다\n",
    "        print((v,t), end=' -> ')\n",
    "        for i in graph[v]: #현재 방문한 노드 기준 다음 노드를 확인한다\n",
    "            if i == K: # K = len(visited) = 17\n",
    "                return t+1\n",
    "            if i < len(visited) and not visited[i]: # 다음 노드를 방문하지 않았다면,\n",
    "                to_visit.append((i, t+1))\n",
    "                visited[v] = True # 방문해준다\n",
    "    return arrived_time"
   ]
  },
  {
   "cell_type": "code",
   "execution_count": 183,
   "id": "seventh-machine",
   "metadata": {},
   "outputs": [
    {
     "name": "stdout",
     "output_type": "stream",
     "text": [
      "(5, 0) -> (4, 1) -> (6, 1) -> (10, 1) -> (3, 2) -> (8, 2) -> (7, 2) -> (12, 2) -> (9, 2) -> (11, 2) -> (2, 3) -> (7, 3) -> (9, 3) -> (16, 3) -> "
     ]
    }
   ],
   "source": [
    "N, K = 5, 17\n",
    "ans = 4\n",
    "\n",
    "graph = []\n",
    "for i in range(K):\n",
    "    next_position = [i-1, i+1, 2*i]\n",
    "    graph.append(next_position) # 걷기, 순간이동\n",
    "visited = [False]*(K)\n",
    "\n",
    "time = 0\n",
    "start = N\n",
    "res = bfs(graph, start, visited, time)"
   ]
  },
  {
   "cell_type": "code",
   "execution_count": 184,
   "id": "coordinate-representative",
   "metadata": {},
   "outputs": [
    {
     "data": {
      "text/plain": [
       "4"
      ]
     },
     "execution_count": 184,
     "metadata": {},
     "output_type": "execute_result"
    }
   ],
   "source": [
    "res"
   ]
  },
  {
   "cell_type": "code",
   "execution_count": 185,
   "id": "loved-dietary",
   "metadata": {},
   "outputs": [
    {
     "name": "stdout",
     "output_type": "stream",
     "text": [
      "0 : [-1, 1, 0]\n",
      "1 : [0, 2, 2]\n",
      "2 : [1, 3, 4]\n",
      "3 : [2, 4, 6]\n",
      "4 : [3, 5, 8]\n",
      "5 : [4, 6, 10]\n",
      "6 : [5, 7, 12]\n",
      "7 : [6, 8, 14]\n",
      "8 : [7, 9, 16]\n",
      "9 : [8, 10, 18]\n",
      "10 : [9, 11, 20]\n",
      "11 : [10, 12, 22]\n",
      "12 : [11, 13, 24]\n",
      "13 : [12, 14, 26]\n",
      "14 : [13, 15, 28]\n",
      "15 : [14, 16, 30]\n",
      "16 : [15, 17, 32]\n"
     ]
    }
   ],
   "source": [
    "for i in range(len(graph)):\n",
    "    print(i, ':', graph[i])"
   ]
  },
  {
   "cell_type": "markdown",
   "id": "distant-circumstances",
   "metadata": {},
   "source": [
    "### trial 2\n",
    "- index error가 떠버렸다\n",
    "- 다른 테스트 케이스에서 반례가 나와서 다시 고친다..\n",
    "\n",
    "https://www.acmicpc.net/board/view/32486"
   ]
  },
  {
   "cell_type": "markdown",
   "id": "bored-filling",
   "metadata": {},
   "source": [
    "**테스트 케이스**\n",
    "\n",
    "4 -> 7로 가는 최단 경로와 시간:\n",
    "\n",
    "4 -> 8 -> 7 , 2초"
   ]
  },
  {
   "cell_type": "code",
   "execution_count": 13,
   "id": "amended-surfing",
   "metadata": {},
   "outputs": [
    {
     "name": "stdout",
     "output_type": "stream",
     "text": [
      "4 7\n",
      "(4, 0) -> (3, 1) -> (5, 1) -> (2, 2) -> (6, 2) -> 3\n"
     ]
    }
   ],
   "source": [
    "from collections import deque\n",
    "\n",
    "\n",
    "N, K = map(int, input().split())\n",
    "\n",
    "graph = []\n",
    "for i in range(K):\n",
    "    next_position = [i-1, i+1, 2*i]\n",
    "    graph.append(next_position) # 걷기, 순간이동\n",
    "visited = [False]*(K)\n",
    "\n",
    "time = 0\n",
    "start = N\n",
    "res = bfs(graph, start, visited, time)\n",
    "print(res)"
   ]
  },
  {
   "cell_type": "markdown",
   "id": "operational-ribbon",
   "metadata": {},
   "source": [
    "문제: 4 -> [3, 5, 8] 까지 방문하지 않는다.. 왜?\n",
    "\n",
    "현재 코드에서는 도착 위치보다 작은 지점만 방문하도록 코딩되어있기 때문에, 7보다 큰 8은 방문하지 않았던 것.. -> 여기를 고치자!"
   ]
  },
  {
   "cell_type": "code",
   "execution_count": 15,
   "id": "fossil-heater",
   "metadata": {},
   "outputs": [
    {
     "data": {
      "text/plain": [
       "[[-1, 1, 0],\n",
       " [0, 2, 2],\n",
       " [1, 3, 4],\n",
       " [2, 4, 6],\n",
       " [3, 5, 8],\n",
       " [4, 6, 10],\n",
       " [5, 7, 12]]"
      ]
     },
     "execution_count": 15,
     "metadata": {},
     "output_type": "execute_result"
    }
   ],
   "source": [
    "graph"
   ]
  },
  {
   "cell_type": "markdown",
   "id": "fitted-gossip",
   "metadata": {},
   "source": [
    "### trial 3\n",
    "- 틀렸다고 해서 테스트 케이스를 돌려본다..\n",
    "- 제자리 걸음, 왼쪽으로 가는 경우를 생각하지 못했다\n",
    "    - 0 -> 0 \n",
    "    - 1000 -> 0\n",
    "- 메모리가 터지는 경우도 있다고 하는데, 아마 탐색범위 설정을 미리 해줘서 나는 통과했다"
   ]
  },
  {
   "cell_type": "markdown",
   "id": "polished-disease",
   "metadata": {},
   "source": [
    "**최종 코드**"
   ]
  },
  {
   "cell_type": "code",
   "execution_count": 77,
   "id": "periodic-truth",
   "metadata": {},
   "outputs": [
    {
     "name": "stdout",
     "output_type": "stream",
     "text": [
      "1 3\n",
      "(1, 0) -> (0, 1) -> (2, 1) -> (2, 1) -> (-1, 2) -> (3, 2) -> "
     ]
    }
   ],
   "source": [
    "def bfs(graph, node, visited, time):\n",
    "    to_visit = deque([(node, time)])\n",
    "    visited[node] = True \n",
    "    \n",
    "    while len(to_visit) > 0:\n",
    "        v, t = to_visit.popleft() \n",
    "        print((v,t), end=' -> ')\n",
    "        # 도착한 뒤 리턴하는 부분을 for 문 바깥으로 뺐다 -> 제자리 걸음인 경우를 해결함\n",
    "        if v == K: \n",
    "            return t\n",
    "        for i in graph[v]:\n",
    "            if i < len(visited) and not visited[i]:\n",
    "                to_visit.append((i, t+1))\n",
    "                visited[v] = True \n",
    "            \n",
    "    return arrived_time\n",
    "\n",
    "N, K = map(int, input().split())\n",
    "max_pos = max(N, K) # 왼쪽으로 가는 경우도 고려할 수 있게 함\n",
    "\n",
    "graph = []\n",
    "for i in range(max_pos*2+1):\n",
    "    next_position = [i-1, i+1, 2*i]\n",
    "    graph.append(next_position) # 걷기, 순간이동\n",
    "visited = [False]*(max_pos*2+1)\n",
    "\n",
    "time = 0\n",
    "start = N\n",
    "res = bfs(graph, start, visited, time)"
   ]
  },
  {
   "cell_type": "code",
   "execution_count": 78,
   "id": "incorporated-lobby",
   "metadata": {},
   "outputs": [
    {
     "data": {
      "text/plain": [
       "2"
      ]
     },
     "execution_count": 78,
     "metadata": {},
     "output_type": "execute_result"
    }
   ],
   "source": [
    "res"
   ]
  }
 ],
 "metadata": {
  "kernelspec": {
   "display_name": "Python 3",
   "language": "python",
   "name": "python3"
  },
  "language_info": {
   "codemirror_mode": {
    "name": "ipython",
    "version": 3
   },
   "file_extension": ".py",
   "mimetype": "text/x-python",
   "name": "python",
   "nbconvert_exporter": "python",
   "pygments_lexer": "ipython3",
   "version": "3.8.8"
  }
 },
 "nbformat": 4,
 "nbformat_minor": 5
}
