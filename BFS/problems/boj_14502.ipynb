{
 "cells": [
  {
   "cell_type": "markdown",
   "id": "4b6a42d0",
   "metadata": {},
   "source": [
    "https://www.acmicpc.net/problem/14502"
   ]
  },
  {
   "cell_type": "markdown",
   "id": "a40aa15f",
   "metadata": {},
   "source": [
    "### first trial"
   ]
  },
  {
   "cell_type": "code",
   "execution_count": 1,
   "id": "8d783801",
   "metadata": {},
   "outputs": [],
   "source": [
    "from collections import deque"
   ]
  },
  {
   "cell_type": "code",
   "execution_count": 6,
   "id": "a7898a76",
   "metadata": {},
   "outputs": [
    {
     "name": "stdout",
     "output_type": "stream",
     "text": [
      "7 7\n"
     ]
    }
   ],
   "source": [
    "N,M = map(int, input().split())"
   ]
  },
  {
   "cell_type": "code",
   "execution_count": 15,
   "id": "23e2c12b",
   "metadata": {},
   "outputs": [
    {
     "name": "stdout",
     "output_type": "stream",
     "text": [
      "2 0 0 0 1 1 0\n",
      "0 0 1 0 1 2 0\n",
      "0 1 1 0 1 0 0\n",
      "0 1 0 0 0 0 0\n",
      "0 0 0 0 0 1 1\n",
      "0 1 0 0 0 0 0\n",
      "0 1 0 0 0 0 0\n"
     ]
    }
   ],
   "source": [
    "graph = []\n",
    "row = []\n",
    "for _ in range(N):\n",
    "    row.extend(list(map(int, input().split())))\n",
    "    graph.append(row)"
   ]
  },
  {
   "cell_type": "code",
   "execution_count": 55,
   "id": "a6d2c777",
   "metadata": {},
   "outputs": [],
   "source": [
    "def move(x, y, M, N):\n",
    "    destination = []\n",
    "    direction = [[0,1], [1,0],[0,-1],[-1,0], #상하좌우\n",
    "                [-1,1],[-1,-1],[1,-1],[1,1]] #대각선\n",
    "    for i in range(8):\n",
    "        dx, dy = direction[i]\n",
    "        new_x, new_y = x+dx, y+dy\n",
    "        if (0<=new_x<N) and (0<=new_y<M) and (graph[new_x][new_y]==0):\n",
    "            destination.append((new_x, new_y))\n",
    "    return destination\n",
    "\n",
    "\n",
    "def bfs(graph, to_visit, n, m, num_wall):\n",
    "    to_visit.append(((n,m), num_wall))\n",
    "    while len(to_visit)> 0 and num_wall <3:\n",
    "        next_dir, num_wall = to_visit.popleft()\n",
    "        x, y = next_dir\n",
    "        num_wall +=1\n",
    "        # 현재 위치에서 갈 수 있는 곳을 to_visit에 넣는다\n",
    "        for next_dir in move(x,y, N, M):\n",
    "            to_visit.append((next_dir,num_wall))\n",
    "        for next_dir, w in to_visit:\n",
    "            a, b = next_dir\n",
    "            graph[a][b]=1"
   ]
  },
  {
   "cell_type": "code",
   "execution_count": 56,
   "id": "f794767e",
   "metadata": {},
   "outputs": [],
   "source": [
    "to_visit = deque([])\n",
    "num_wall = 0\n",
    "\n",
    "for n in range(N):\n",
    "    for m in range(M):\n",
    "        if graph[n][m] ==2:\n",
    "            bfs(graph, to_visit, n, m, num_wall)"
   ]
  },
  {
   "cell_type": "code",
   "execution_count": 57,
   "id": "349d2243",
   "metadata": {},
   "outputs": [
    {
     "data": {
      "text/plain": [
       "deque([])"
      ]
     },
     "execution_count": 57,
     "metadata": {},
     "output_type": "execute_result"
    }
   ],
   "source": []
  },
  {
   "cell_type": "code",
   "execution_count": null,
   "id": "a921fd24",
   "metadata": {},
   "outputs": [],
   "source": [
    "import copy\n",
    "\n",
    "#N, M = map(int, input().split()) # num of row, num of col\n",
    "\n",
    "# graph = []\n",
    "# for _ in range(N):\n",
    "#     row = list(map(int, input().split()))\n",
    "#     graph.append(row)\n",
    "\n",
    "dr = [-1, 1, 0, 0]\n",
    "dc = [0, 0, 1, -1]\n",
    "\n",
    "# 벽을 세운다 -> graph2\n",
    "# 0인 원소 중 1을 세 개 선택\n",
    "blank_index = []\n",
    "virus_index = []\n",
    "for i in range(N):\n",
    "    for j in range(M):\n",
    "        if graph[i][j] == 0:\n",
    "            blank_index.append([i,j])\n",
    "        elif graph[i][j] == 2:\n",
    "            virus_index.append([i,j])\n",
    "\n",
    "\n",
    "def dfs(r ,c):\n",
    "    visited[r][c]=True\n",
    "    \n",
    "    # 현재 방문한 노드에 대해,주변 4방향으로 갈 수 있는 지 탐색\n",
    "    for i in range(4): #그 노드가 실제로 인접했는지, \n",
    "        new_r = r + dr[i]\n",
    "        new_c = c + dc[i]\n",
    "        if 0 <= new_r < N and 0 <= new_c < M: #방문하려는 노드가 실제로 존재하는 지 (바둑판을 벗어나는 지)\n",
    "            if graph2[new_r][new_c] == 0:\n",
    "                if not visited[new_r][new_c]: # 실제로 방문했는지 안했는지\n",
    "                    dfs(new_r, new_c)\n",
    "                \n",
    "def calc_safe_area(visited, graph2):\n",
    "    area = 0\n",
    "    for i in range(N):\n",
    "        for j in range(M):\n",
    "            if visited[i][j] == False and graph2[i][j] == 0:\n",
    "                area += 1\n",
    "    return area\n",
    "\n",
    "\n",
    "\n",
    "ans = []\n",
    "\n",
    "for i in range(len(blank_index)):\n",
    "    for j in range(i+1,len(blank_index)):\n",
    "        for k in range(j+1, len(blank_index)):\n",
    "            #print(blank_index[i],blank_index[j],blank_index[k])\n",
    "            wall_index = [blank_index[i],blank_index[j],blank_index[k]]\n",
    "            # 해당 iteration에서 뽑힌 빈칸들을 벽으로 만들어서 \n",
    "            graph2 = copy.deepcopy(graph)\n",
    "            for x,y in wall_index:\n",
    "                graph2[x][y] = 1\n",
    "                \n",
    "            visited = []\n",
    "            for _ in range(N):\n",
    "                row = []\n",
    "                for _ in range(M):\n",
    "                    row.append(False)\n",
    "                visited.append(row)\n",
    "                \n",
    "            # 바이러스가 있는 곳부터 dfs를 시작해서 바이러스를 퍼뜨린다\n",
    "            for v in virus_index:\n",
    "                r,c = v\n",
    "                dfs(r,c)\n",
    "            # 안전 영역을 계산한다\n",
    "            #print(calc_safe_area(visited, graph2))\n",
    "            ans.append(calc_safe_area(visited, graph2))\n",
    "                \n",
    "print(max(ans))"
   ]
  }
 ],
 "metadata": {
  "kernelspec": {
   "display_name": "BP023",
   "language": "python",
   "name": "venv"
  },
  "language_info": {
   "codemirror_mode": {
    "name": "ipython",
    "version": 3
   },
   "file_extension": ".py",
   "mimetype": "text/x-python",
   "name": "python",
   "nbconvert_exporter": "python",
   "pygments_lexer": "ipython3",
   "version": "3.9.10"
  }
 },
 "nbformat": 4,
 "nbformat_minor": 5
}
