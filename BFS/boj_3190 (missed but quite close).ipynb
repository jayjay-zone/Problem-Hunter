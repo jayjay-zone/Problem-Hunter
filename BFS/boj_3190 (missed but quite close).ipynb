{
 "cells": [
  {
   "cell_type": "markdown",
   "id": "cognitive-intention",
   "metadata": {},
   "source": [
    "#### 뱀이 늘어나고 줄어드는 걸 너무 어렵게 생각했다... \n",
    "#### 일단 문제에 리스트로 표현될 수 있는 것들은 자료구조로 치환해보자"
   ]
  },
  {
   "cell_type": "code",
   "execution_count": null,
   "id": "metropolitan-arabic",
   "metadata": {},
   "outputs": [],
   "source": [
    "from collections import deque\n",
    "\n",
    "N = int(input())\n",
    "K = int(input())\n",
    "# apple\n",
    "apples = []\n",
    "for _ in range(K):\n",
    "    coord = list(map(int, input().split()))\n",
    "    apples.append(coord)\n",
    "    \n",
    "# snake\n",
    "L = int(input())\n",
    "change = {}\n",
    "for _ in range(L):\n",
    "    x,c = input().split()\n",
    "    change[int(x)]=c"
   ]
  },
  {
   "cell_type": "code",
   "execution_count": 49,
   "id": "solid-engineering",
   "metadata": {},
   "outputs": [
    {
     "data": {
      "text/plain": [
       "[[3, 4], [2, 5], [5, 3]]"
      ]
     },
     "execution_count": 49,
     "metadata": {},
     "output_type": "execute_result"
    }
   ],
   "source": [
    "apples"
   ]
  },
  {
   "cell_type": "code",
   "execution_count": null,
   "id": "civilian-origin",
   "metadata": {},
   "outputs": [],
   "source": [
    "snake_loc = deque[[1,1]] # [tail =======> head]\n",
    "time = 0\n",
    "head = 1 # 오른쪽\n",
    "dx = [-1, 0, 1, 0]\n",
    "dy = [0, 1, 0, -1]\n",
    "\n",
    "while True:\n",
    "    #머리를 위치\n",
    "    hx, hy = snake_loc[-1] #head location\n",
    "    new_x, new_y = hx+dx[head%4], hy+dy[head%4]\n",
    "    new_head = [new_x, new_y]\n",
    "    \n",
    "    #게임이 끝나는 지 확인\n",
    "    if (1<=new_x<=N and 1<=new_y<=N) and new_head not in snake_loc:\n",
    "        pass\n",
    "    else:\n",
    "        break #game over\n",
    "    # 사과 확인\n",
    "    if apples and new_head in apples:\n",
    "        flag = True #사과가 있으면, 꼬리는 움직이지 않음\n",
    "        apples.remove(new_head)\n",
    "    # 만약 이동한 칸에 사과가 있다면, 그 칸에 있던 사과가 없어지고 꼬리는 움직이지 않는다.\n",
    "    # 즉, 이동칸으로 머리를 하나 늘려준다\n",
    "    snake_loc.append(new_head)\n",
    "    if flag:\n",
    "        pass\n",
    "    else:\n",
    "        positions.popleft() \n",
    "        \n",
    "    if time in change:\n",
    "        if change[time] == 'D':\n",
    "            d+=1\n",
    "        else:\n",
    "            d-=1\n",
    "    time +=1\n",
    "    flag=False\n",
    "print(time)\n",
    "    \n",
    "    "
   ]
  },
  {
   "cell_type": "code",
   "execution_count": null,
   "id": "improved-congo",
   "metadata": {},
   "outputs": [],
   "source": []
  },
  {
   "cell_type": "code",
   "execution_count": null,
   "id": "subject-border",
   "metadata": {},
   "outputs": [],
   "source": []
  },
  {
   "cell_type": "code",
   "execution_count": 4,
   "id": "infrared-holly",
   "metadata": {},
   "outputs": [
    {
     "name": "stdout",
     "output_type": "stream",
     "text": [
      "10\n",
      "4\n",
      "1 2\n",
      "1 3\n",
      "1 4\n",
      "1 5\n",
      "4\n",
      "8 D\n",
      "10 D\n",
      "11 D\n",
      "13 L\n",
      "0 0 0\n",
      "1 0 1\n",
      "2 0 2\n",
      "3 0 3\n",
      "4 0 4\n",
      "5 0 5\n",
      "6 0 6\n",
      "7 0 7\n",
      "8 0 8\n",
      "9 0 9\n",
      "10 1 9\n",
      "11 2 9\n",
      "12 2 8\n",
      "13 1 8\n",
      "14 0 8\n",
      "15 0 7\n",
      "16 0 6\n",
      "17 0 5\n",
      "18 0 4\n",
      "19 0 3\n",
      "20 0 2\n",
      "21 0 1\n",
      "22 0 0\n"
     ]
    }
   ],
   "source": [
    "from collections import deque\n",
    "\n",
    "\n",
    "N = int(input())\n",
    "K = int(input())\n",
    "apples = []\n",
    "for _ in range(K):\n",
    "    coord = list(map(int, input().split()))\n",
    "    apples.append(coord)\n",
    "\n",
    "S = int(input())\n",
    "snake_move = {}\n",
    "for _ in range(S):\n",
    "    k,v = input().split()\n",
    "    if v == 'D':\n",
    "        v = 1\n",
    "    else:\n",
    "        v = -1\n",
    "    snake_move[int(k)] = v\n",
    "\n",
    "\n",
    "directions = [(0, 1), (1,0), (0,-1), (-1,0)] #상우하좌\n",
    "time = 0\n",
    "snake = deque([[0,0]])\n",
    "head = 0 # 오른쪽\n",
    "\n",
    "\n",
    "while True:\n",
    "    x,y = snake[-1] # head location\n",
    "    print(time, x,y)\n",
    "    # move head\n",
    "    dx, dy = directions[head%4] #머리에 따라 방향을 설정해준다\n",
    "    new_x, new_y = x+dx, y+dy\n",
    "    if 0 <= new_x < N and 0<= new_y < N and [new_x, new_y] not in snake:\n",
    "        pass\n",
    "    else:\n",
    "        break\n",
    "    # 사과 위치인지 확인한다\n",
    "    if [new_x,new_y] in apples: \n",
    "        apples.remove([new_x,new_y]) #eat apple\n",
    "    else:\n",
    "        snake.popleft()\n",
    "    snake.append([new_x,new_y])\n",
    "\n",
    "    if time in snake_move: # 뱀 머리가 바뀔 시간인지 확인한다\n",
    "        head += snake_move[time] #머리를 바꿔준다 \n",
    "\n",
    "    time+=1\n",
    "    \n",
    "# 이렇게 짜면 기본적인 bfs\n",
    "# 여기서 뱀의 머리 정보에 따른 이동 경로를 고려해주고\n",
    "# 사과를 먹었을 때의 길이에 따라 벽에 부딪힐지 파악해줘야 한다"
   ]
  },
  {
   "cell_type": "code",
   "execution_count": 5,
   "id": "bound-direction",
   "metadata": {},
   "outputs": [
    {
     "data": {
      "text/plain": [
       "22"
      ]
     },
     "execution_count": 5,
     "metadata": {},
     "output_type": "execute_result"
    }
   ],
   "source": [
    "time"
   ]
  },
  {
   "cell_type": "code",
   "execution_count": null,
   "id": "exceptional-subscription",
   "metadata": {},
   "outputs": [],
   "source": []
  }
 ],
 "metadata": {
  "kernelspec": {
   "display_name": "Python 3",
   "language": "python",
   "name": "python3"
  },
  "language_info": {
   "codemirror_mode": {
    "name": "ipython",
    "version": 3
   },
   "file_extension": ".py",
   "mimetype": "text/x-python",
   "name": "python",
   "nbconvert_exporter": "python",
   "pygments_lexer": "ipython3",
   "version": "3.8.8"
  }
 },
 "nbformat": 4,
 "nbformat_minor": 5
}
