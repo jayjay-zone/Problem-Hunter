{
 "cells": [
  {
   "cell_type": "markdown",
   "id": "3a6a6980",
   "metadata": {},
   "source": [
    "만약 두 개의 ‘-’가 인접해 있고, 같은 행에 있다면, 두 개는 같은 나무 판자이고, 두 개의 ‘|’가 인접해 있고, 같은 열에 있다면, 두 개는 같은 나무 판자이다.\n",
    "\n",
    "기훈이의 방 바닥을 장식하는데 필요한 나무 판자의 개수를 출력하는 프로그램을 작성하시오.\n",
    "\n",
    ": **한번에 어디까지 가나 스타일 -> bfs/dfs**\n",
    "\n"
   ]
  },
  {
   "cell_type": "code",
   "execution_count": 1,
   "id": "f367b6d4",
   "metadata": {},
   "outputs": [
    {
     "name": "stdout",
     "output_type": "stream",
     "text": [
      "4 4\n"
     ]
    }
   ],
   "source": [
    "n,m = map(int, input().split())"
   ]
  },
  {
   "cell_type": "code",
   "execution_count": 7,
   "id": "a23229e5",
   "metadata": {},
   "outputs": [
    {
     "name": "stdout",
     "output_type": "stream",
     "text": [
      "----\n",
      "|---\n",
      "|---\n",
      "----\n"
     ]
    }
   ],
   "source": [
    "floor = []\n",
    "for _ in range(n):\n",
    "    floor.append(list(input()))"
   ]
  },
  {
   "cell_type": "code",
   "execution_count": 11,
   "id": "919b554f",
   "metadata": {},
   "outputs": [
    {
     "data": {
      "text/plain": [
       "'|'"
      ]
     },
     "execution_count": 11,
     "metadata": {},
     "output_type": "execute_result"
    }
   ],
   "source": [
    "floor[1][0]\n",
    "#갈수 있는데까지 가고 간 노드 숫자//2 + 1"
   ]
  },
  {
   "cell_type": "code",
   "execution_count": 14,
   "id": "808b4766",
   "metadata": {},
   "outputs": [],
   "source": [
    "dir_dic = {'-':[[0,1], [0, -1]], '|':[[1,0], [-1, 0]]}"
   ]
  },
  {
   "cell_type": "code",
   "execution_count": 19,
   "id": "33d6c7e0",
   "metadata": {},
   "outputs": [],
   "source": [
    "from collections import deque,defaultdict\n",
    "\n",
    "visited = defaultdict(int)\n",
    "\n",
    "def bfs(graph, x, y, to_visit, visited):    \n",
    "    to_visit = deque([x,y])\n",
    "    visited[(x,y)]=1\n",
    "    while len(to_visit) > 0:\n",
    "        x,y = to_visit.popleft()\n",
    "        v = graph[x][y]\n",
    "        if (x,y) not in visited:\n",
    "            visited[(x,y)]+=1\n",
    "            for dx, dy in dir_dic[v]:\n",
    "                new_x, new_y = x+dx, y+dy\n",
    "                if 0 < new_x < n and 0 < new_y < m and graph[dx][dy] == v:\n",
    "                    bfs(graph, new_x, new_y, to_visit, visited)"
   ]
  },
  {
   "cell_type": "code",
   "execution_count": null,
   "id": "1859efa8",
   "metadata": {},
   "outputs": [],
   "source": [
    "bfs(floor, 0,0, )"
   ]
  },
  {
   "cell_type": "code",
   "execution_count": 12,
   "id": "ec3d6f7b",
   "metadata": {},
   "outputs": [],
   "source": [
    "l = [[1,2]]"
   ]
  },
  {
   "cell_type": "code",
   "execution_count": 13,
   "id": "aa184253",
   "metadata": {},
   "outputs": [
    {
     "data": {
      "text/plain": [
       "True"
      ]
     },
     "execution_count": 13,
     "metadata": {},
     "output_type": "execute_result"
    }
   ],
   "source": [
    "[1,2] in l"
   ]
  },
  {
   "cell_type": "code",
   "execution_count": null,
   "id": "c0de8a08",
   "metadata": {},
   "outputs": [],
   "source": []
  }
 ],
 "metadata": {
  "kernelspec": {
   "display_name": "venv",
   "language": "python",
   "name": "venv"
  },
  "language_info": {
   "codemirror_mode": {
    "name": "ipython",
    "version": 3
   },
   "file_extension": ".py",
   "mimetype": "text/x-python",
   "name": "python",
   "nbconvert_exporter": "python",
   "pygments_lexer": "ipython3",
   "version": "3.9.10"
  }
 },
 "nbformat": 4,
 "nbformat_minor": 5
}
