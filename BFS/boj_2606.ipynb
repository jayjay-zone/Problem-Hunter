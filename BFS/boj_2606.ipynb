{
 "cells": [
  {
   "cell_type": "markdown",
   "id": "cloudy-fifth",
   "metadata": {},
   "source": [
    "1번 컴퓨터를 통해 웜 바이러스에 걸리게 되는 컴퓨터의 수를 출력하는 프로그램을 작성하시오.\n",
    "\n",
    "-> 한번에 갈 수 있는 노드의 갯수 -> bfs로 풀고, cnt를 각 노드에 박아주자"
   ]
  },
  {
   "cell_type": "code",
   "execution_count": 60,
   "id": "silent-louisiana",
   "metadata": {},
   "outputs": [
    {
     "name": "stdout",
     "output_type": "stream",
     "text": [
      "1 2\n",
      "2 3\n",
      "1 5\n",
      "5 2\n",
      "5 6\n",
      "4 7\n"
     ]
    }
   ],
   "source": [
    "n_comp = 7\n",
    "# comp_idx = 1,2,...\n",
    "conn = 6\n",
    "# adj list\n",
    "graph = [[] for _ in range(n_comp+1)]\n",
    "for _ in range(conn):\n",
    "    i, j = map(int, input().split())\n",
    "    graph[i].append(j)\n",
    "    graph[j].append(i)"
   ]
  },
  {
   "cell_type": "code",
   "execution_count": 61,
   "id": "stone-bronze",
   "metadata": {},
   "outputs": [],
   "source": [
    "import copy\n",
    "graph1 = copy.deepcopy(graph)"
   ]
  },
  {
   "cell_type": "code",
   "execution_count": 62,
   "id": "protected-freeze",
   "metadata": {},
   "outputs": [
    {
     "data": {
      "text/plain": [
       "[[], [2, 5], [1, 3, 5], [2], [7], [1, 2, 6], [5], [4]]"
      ]
     },
     "execution_count": 62,
     "metadata": {},
     "output_type": "execute_result"
    }
   ],
   "source": [
    "graph"
   ]
  },
  {
   "cell_type": "markdown",
   "id": "operational-purse",
   "metadata": {},
   "source": [
    "# bfs로 풀면"
   ]
  },
  {
   "cell_type": "code",
   "execution_count": 30,
   "id": "preliminary-suffering",
   "metadata": {},
   "outputs": [],
   "source": [
    "from collections import deque\n",
    "\n",
    "visited = [False]*(n_comp+1)\n",
    "\n",
    "def bfs(x):    \n",
    "    to_visit = deque([])\n",
    "    to_visit.append(x)\n",
    "    while len(to_visit) > 0:\n",
    "        x = to_visit.popleft() # 방문할 노드를 꺼낸다\n",
    "        if not visited[x]: #방문하지 않은 노드이면 \n",
    "            visited[x] = True #방문해주고\n",
    "            if graph[x]: # 해당 노드에 연결된 다음 노드가 있다면\n",
    "                for v in graph[x]:\n",
    "                    to_visit.append(v)\n",
    "            "
   ]
  },
  {
   "cell_type": "code",
   "execution_count": 31,
   "id": "dietary-albuquerque",
   "metadata": {},
   "outputs": [],
   "source": [
    "bfs(1)\n",
    "\n",
    "ans = 0\n",
    "for x in visited:\n",
    "    if x:\n",
    "        ans +=1\n",
    "ans -=1"
   ]
  },
  {
   "cell_type": "code",
   "execution_count": 36,
   "id": "environmental-england",
   "metadata": {},
   "outputs": [
    {
     "data": {
      "text/plain": [
       "4"
      ]
     },
     "execution_count": 36,
     "metadata": {},
     "output_type": "execute_result"
    }
   ],
   "source": [
    "ans"
   ]
  },
  {
   "cell_type": "markdown",
   "id": "administrative-qualification",
   "metadata": {},
   "source": [
    "# dfs로 풀면"
   ]
  },
  {
   "cell_type": "code",
   "execution_count": 70,
   "id": "determined-picking",
   "metadata": {},
   "outputs": [
    {
     "data": {
      "text/plain": [
       "[[], [2, 5], [1, 3, 5], [2], [7], [1, 2, 6], [5], [4]]"
      ]
     },
     "execution_count": 70,
     "metadata": {},
     "output_type": "execute_result"
    }
   ],
   "source": [
    "graph = copy.deepcopy(graph1)\n",
    "graph"
   ]
  },
  {
   "cell_type": "code",
   "execution_count": 44,
   "id": "decimal-minority",
   "metadata": {},
   "outputs": [],
   "source": [
    "visited = [False]*(n_comp+1)\n",
    "def dfs(x, visited):\n",
    "    visited[x] = True\n",
    "    print(x)\n",
    "    for i in graph[x]:\n",
    "        if not visited[i]:\n",
    "            dfs(i, visited)"
   ]
  },
  {
   "cell_type": "code",
   "execution_count": 45,
   "id": "effective-collapse",
   "metadata": {},
   "outputs": [
    {
     "name": "stdout",
     "output_type": "stream",
     "text": [
      "1\n",
      "2\n",
      "3\n",
      "5\n",
      "6\n"
     ]
    }
   ],
   "source": [
    "dfs(1, visited)"
   ]
  },
  {
   "cell_type": "code",
   "execution_count": 79,
   "id": "driving-column",
   "metadata": {},
   "outputs": [],
   "source": [
    "def dfs(x, to_visit):\n",
    "    to_visit.append(x)\n",
    "    while len(to_visit) > 0:\n",
    "        x = to_visit.pop()\n",
    "        if not visited[x]: #방문하지 않은 노드이면\n",
    "            visited[x] = True #방문하고\n",
    "            print(x)\n",
    "            for v in graph[x]:\n",
    "                to_visit.append(v)\n",
    "            \n",
    "                \n"
   ]
  },
  {
   "cell_type": "code",
   "execution_count": 80,
   "id": "short-halifax",
   "metadata": {},
   "outputs": [
    {
     "name": "stdout",
     "output_type": "stream",
     "text": [
      "1\n",
      "5\n",
      "6\n",
      "2\n",
      "3\n"
     ]
    }
   ],
   "source": [
    "import copy\n",
    "graph = copy.deepcopy(graph1)\n",
    "\n",
    "visited = [False]*(n_comp+1)\n",
    "to_visit = []\n",
    "dfs(1, to_visit)"
   ]
  }
 ],
 "metadata": {
  "kernelspec": {
   "display_name": "Python 3",
   "language": "python",
   "name": "python3"
  },
  "language_info": {
   "codemirror_mode": {
    "name": "ipython",
    "version": 3
   },
   "file_extension": ".py",
   "mimetype": "text/x-python",
   "name": "python",
   "nbconvert_exporter": "python",
   "pygments_lexer": "ipython3",
   "version": "3.8.8"
  }
 },
 "nbformat": 4,
 "nbformat_minor": 5
}
