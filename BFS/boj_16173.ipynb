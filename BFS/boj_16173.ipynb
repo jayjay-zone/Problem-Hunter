{
 "cells": [
  {
   "cell_type": "code",
   "execution_count": null,
   "id": "alike-geography",
   "metadata": {},
   "outputs": [],
   "source": [
    "start = [0,0]\n",
    "direction = [[0, 1], [1, 0]] #오른쪽, 아래\n",
    "end = [n-1,n-1]\n",
    "#weighted edge -> dfs"
   ]
  },
  {
   "cell_type": "code",
   "execution_count": 47,
   "id": "infectious-quilt",
   "metadata": {},
   "outputs": [
    {
     "name": "stdout",
     "output_type": "stream",
     "text": [
      "0 0\n",
      "2 0\n",
      "2 1\n",
      "0 2\n",
      "1 2\n",
      "Hing\n"
     ]
    }
   ],
   "source": [
    "N = int(input())\n",
    "graph = []\n",
    "for _ in range(N):\n",
    "    graph.append(list(map(int, input().split())))\n",
    "    \n",
    "\n",
    "direction = [[0, 1], [1, 0]] #오른쪽, 아래\n",
    "to_visit = [] # 스택\n",
    "\n",
    "def dfs(x, y):\n",
    "    if x > N or y > N:\n",
    "        return False\n",
    "    to_visit.append([x,y])\n",
    "    while len(to_visit) > 0:\n",
    "        x,y = to_visit.pop()\n",
    "        if x < N and y < N and graph[x][y] != 0: # 게임 판 위를 벗어나지 않았고, 방문하지 않았으면\n",
    "            #print(x,y)\n",
    "            num = graph[x][y]\n",
    "            if num == -1:\n",
    "                return True\n",
    "            graph[x][y] = 0 # 방문한다\n",
    "            for dx, dy in direction: # 오른쪽, 아래 방향\n",
    "                new_x, new_y = x+(num*dx), y+(num*dy)\n",
    "                to_visit.append((new_x, new_y))\n",
    "\n",
    "res = dfs(0,0)\n",
    "\n",
    "if res:\n",
    "    print('HaruHaru')\n",
    "else:\n",
    "    print('Hing')"
   ]
  },
  {
   "cell_type": "code",
   "execution_count": null,
   "id": "coral-chile",
   "metadata": {},
   "outputs": [],
   "source": []
  },
  {
   "cell_type": "code",
   "execution_count": null,
   "id": "portuguese-spoke",
   "metadata": {},
   "outputs": [],
   "source": []
  }
 ],
 "metadata": {
  "kernelspec": {
   "display_name": "Python 3",
   "language": "python",
   "name": "python3"
  },
  "language_info": {
   "codemirror_mode": {
    "name": "ipython",
    "version": 3
   },
   "file_extension": ".py",
   "mimetype": "text/x-python",
   "name": "python",
   "nbconvert_exporter": "python",
   "pygments_lexer": "ipython3",
   "version": "3.8.8"
  }
 },
 "nbformat": 4,
 "nbformat_minor": 5
}
