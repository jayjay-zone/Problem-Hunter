{
 "cells": [
  {
   "cell_type": "markdown",
   "id": "composed-grove",
   "metadata": {},
   "source": [
    "### BFS: 너비 우선 탐색\n",
    "\n",
    "https://heytech.tistory.com/56"
   ]
  },
  {
   "cell_type": "markdown",
   "id": "funny-junction",
   "metadata": {},
   "source": [
    "**언제 쓸까?**\n",
    "- 그래프에서 모든 간선의 비용이 동일한 조건에서 **최단 거리를 구하는 문제**를 효과적으로 해결"
   ]
  },
  {
   "cell_type": "markdown",
   "id": "completed-enemy",
   "metadata": {},
   "source": [
    "**BFS가 쓰는 자료 구조**\n",
    "- BFS 알고리즘은 그래프에서 <u>가까운 노드부터 우선적으로 탐색한다</u>는 점에서, <u>선입선출</u> 방식의 **큐(Queue)** 자료구조를 활용합니다. \n",
    "- 즉, BFS는 인접한 노드를 반복적으로 큐에 삽입하고 먼저 삽입된 노드부터 차례로 큐에서 꺼내도록 알고리즘을 작성하면 됩니다. \n"
   ]
  },
  {
   "cell_type": "markdown",
   "id": "passive-stress",
   "metadata": {},
   "source": [
    "**동작 방식**\n",
    "\n",
    "1️⃣ 탐색 시작 노드 정보를 큐에 삽입하고 방문 처리합니다. <br>\n",
    "2️⃣ 큐에서 노드를 꺼내 방문하지 않은 인접 노드 정보를 모두 큐에 삽입하고 방문 처리합니다.<br>\n",
    "3️⃣ 2번의 과정을 더 이상 수행할 수 없을 때까지 반복합니다.<br>"
   ]
  },
  {
   "cell_type": "markdown",
   "id": "moral-living",
   "metadata": {},
   "source": [
    "**필요한 변수**\n",
    "- 방문할 그래프(graph)\n",
    "    - 이때, 실제 그래프 내 노드 개수보다 2차원 배열에 원소 개수는 1개 더 많다.\n",
    "        - 노드 번호는 1부터 시작, 리스트 내 원소의 인덱스와 노드 번호를 일치시키기 위해, 인덱스 0에 빈 리스트를 넣어준다\n",
    "        - 기존 그래프 내 노드 개수보다 방문 정보를 담은 리스트 내 원소 개수를 1개 더 많게 세팅 \n",
    "        - 인덱스와 노드 번호를 일치시켜 줌\n",
    "- 방문한 노드를 저장하는 리스트(visited)\n",
    "    - 각 노드 별로 False를 미리 할당해둔다\n",
    "- 다음에 방문할 노드를 저장하는 큐(to_visit)\n",
    "- 방문을 시작할 노드(start)"
   ]
  },
  {
   "cell_type": "code",
   "execution_count": 2,
   "id": "creative-pilot",
   "metadata": {},
   "outputs": [],
   "source": [
    "from collections import deque"
   ]
  },
  {
   "cell_type": "code",
   "execution_count": 26,
   "id": "electric-maintenance",
   "metadata": {},
   "outputs": [],
   "source": [
    "graph = [\n",
    "    [], [2, 3], [1, 8], [1, 4, 5], [3, 5], [3, 4], [7, 8], [6, 8], [2, 6, 7]\n",
    "]"
   ]
  },
  {
   "cell_type": "code",
   "execution_count": 23,
   "id": "insured-primary",
   "metadata": {},
   "outputs": [],
   "source": [
    "visited = [False]*(len(graph))"
   ]
  },
  {
   "cell_type": "code",
   "execution_count": 24,
   "id": "frozen-cooling",
   "metadata": {},
   "outputs": [],
   "source": [
    "def bfs(graph, node, visited):\n",
    "    # 방문할 노드를 넣어준다\n",
    "    to_visit = deque([node])\n",
    "    # 방문을 한다 (표시를 해준다)\n",
    "    visited[node] = True\n",
    "\n",
    "    # 더이상 방문할 노드가 없을 때까지 반복\n",
    "    while len(to_visit)>0:\n",
    "        # 방문할 노드를 하나 꺼낸다\n",
    "        v = to_visit.popleft()\n",
    "        # 탐색 순서 출력\n",
    "        print(v, end = ' ')\n",
    "        # 다음 방문할 노드를 그래프에서 찾는다\n",
    "        for i in graph[v]:\n",
    "            if not visited[i]:\n",
    "                # 방문하지 않았으면, 방문할 큐에 넣어준다\n",
    "                to_visit.append(i)\n",
    "                # 방문 처리를 하고 순회를 끝낸다 -> 처음 시작한 노드로 돌아간다\n",
    "                visited[i]=True"
   ]
  },
  {
   "cell_type": "code",
   "execution_count": 25,
   "id": "technological-michigan",
   "metadata": {},
   "outputs": [
    {
     "name": "stdout",
     "output_type": "stream",
     "text": [
      "1 2 3 8 4 5 6 7 "
     ]
    }
   ],
   "source": [
    "bfs(graph, 1, visited)"
   ]
  },
  {
   "cell_type": "markdown",
   "id": "interpreted-cylinder",
   "metadata": {},
   "source": [
    "https://blog.encrypted.gg/941\n",
    "\n",
    "https://everenew.tistory.com/151"
   ]
  },
  {
   "cell_type": "code",
   "execution_count": null,
   "id": "modular-lexington",
   "metadata": {},
   "outputs": [],
   "source": []
  }
 ],
 "metadata": {
  "kernelspec": {
   "display_name": "Python 3",
   "language": "python",
   "name": "python3"
  },
  "language_info": {
   "codemirror_mode": {
    "name": "ipython",
    "version": 3
   },
   "file_extension": ".py",
   "mimetype": "text/x-python",
   "name": "python",
   "nbconvert_exporter": "python",
   "pygments_lexer": "ipython3",
   "version": "3.8.8"
  }
 },
 "nbformat": 4,
 "nbformat_minor": 5
}
