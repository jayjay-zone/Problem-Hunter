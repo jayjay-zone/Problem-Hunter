{
 "cells": [
  {
   "cell_type": "markdown",
   "id": "checked-america",
   "metadata": {},
   "source": [
    "B에 있는 수는 재배열하면 안 된다.!!!!!"
   ]
  },
  {
   "cell_type": "code",
   "execution_count": null,
   "id": "imported-recycling",
   "metadata": {},
   "outputs": [],
   "source": [
    "N = int(input())\n",
    "A = list(map(int, input().split()))\n",
    "B = list(map(int, input().split()))\n",
    "\n",
    "A = sorted(A)\n",
    "B = sorted(B, reverse=True)\n",
    "\n",
    "ans = 0\n",
    "for a,b in zip(A, B):\n",
    "    ans+= a*b\n",
    "    \n",
    "print(ans)"
   ]
  },
  {
   "cell_type": "code",
   "execution_count": 64,
   "id": "terminal-citation",
   "metadata": {},
   "outputs": [
    {
     "name": "stdout",
     "output_type": "stream",
     "text": [
      "5\n",
      "1 1 1 6 0\n",
      "2 7 8 3 1\n"
     ]
    }
   ],
   "source": [
    "n = int(input())\n",
    "A = list(map(int, input().split()))\n",
    "B = list(map(int, input().split()))\n",
    "# B의 인덱스를 정렬하고 (작은 순)\n",
    "# 그 순서대로 A를 배열한다 (큰순)"
   ]
  },
  {
   "cell_type": "code",
   "execution_count": 81,
   "id": "impressive-highlight",
   "metadata": {},
   "outputs": [],
   "source": [
    "elem2id = {}\n",
    "id2elem = {}\n",
    "for i, b in enumerate(B):\n",
    "    if b in elem2id: #중복 이 있는 경우\n",
    "        elem2id[b].append(i)\n",
    "    else:\n",
    "        elem2id[b] = [i]\n",
    "    id2elem[i] = b\n",
    "    "
   ]
  },
  {
   "cell_type": "code",
   "execution_count": 82,
   "id": "overall-revolution",
   "metadata": {},
   "outputs": [],
   "source": [
    "\n",
    "sorted_b_idx = []\n",
    "for b in sorted(B):\n",
    "    idx = elem2id[b]\n",
    "    if type(idx) == list:\n",
    "        idx = idx.pop()\n",
    "    sorted_b_idx.append(idx)"
   ]
  },
  {
   "cell_type": "code",
   "execution_count": 83,
   "id": "weekly-tissue",
   "metadata": {},
   "outputs": [
    {
     "data": {
      "text/plain": [
       "[4, 0, 3, 1, 2]"
      ]
     },
     "execution_count": 83,
     "metadata": {},
     "output_type": "execute_result"
    }
   ],
   "source": [
    "sorted_b_idx # 작 -> 큰"
   ]
  },
  {
   "cell_type": "code",
   "execution_count": 87,
   "id": "complete-classification",
   "metadata": {},
   "outputs": [],
   "source": [
    "b_idx2a_elem = {}\n",
    "for i, a in zip(sorted_b_idx, sorted(A, reverse=True)):\n",
    "    b_idx2a_elem[i] = a"
   ]
  },
  {
   "cell_type": "code",
   "execution_count": 88,
   "id": "identified-living",
   "metadata": {},
   "outputs": [
    {
     "data": {
      "text/plain": [
       "{4: 6, 0: 1, 3: 1, 1: 1, 2: 0}"
      ]
     },
     "execution_count": 88,
     "metadata": {},
     "output_type": "execute_result"
    }
   ],
   "source": [
    "b_idx2a_elem # {k:v}, kth element in B에는 v를 곱해라"
   ]
  },
  {
   "cell_type": "code",
   "execution_count": 89,
   "id": "monthly-melbourne",
   "metadata": {},
   "outputs": [],
   "source": [
    "res = 0\n",
    "for i, j in b_idx2a_elem.items():\n",
    "    res += B[i] * j"
   ]
  },
  {
   "cell_type": "code",
   "execution_count": 90,
   "id": "asian-variable",
   "metadata": {},
   "outputs": [
    {
     "data": {
      "text/plain": [
       "18"
      ]
     },
     "execution_count": 90,
     "metadata": {},
     "output_type": "execute_result"
    }
   ],
   "source": [
    "res"
   ]
  },
  {
   "cell_type": "code",
   "execution_count": 35,
   "id": "clear-heaven",
   "metadata": {},
   "outputs": [],
   "source": [
    "def quick_sort(arr):\n",
    "    if len(arr) <= 1:\n",
    "        return arr\n",
    "    pivot = arr[len(arr)//2]\n",
    "    greater_arr, lesser_arr, equal_arr = [], [], []\n",
    "    for a in arr:\n",
    "        if a > pivot:\n",
    "            greater_arr.append(a)\n",
    "        elif a < pivot:\n",
    "            lesser_arr.append(a)\n",
    "        else:\n",
    "            equal_arr.append(a)\n",
    "    return quick_sort(lesser_arr)+equal_arr+quick_sort(greater_arr)"
   ]
  }
 ],
 "metadata": {
  "kernelspec": {
   "display_name": "Python 3",
   "language": "python",
   "name": "python3"
  },
  "language_info": {
   "codemirror_mode": {
    "name": "ipython",
    "version": 3
   },
   "file_extension": ".py",
   "mimetype": "text/x-python",
   "name": "python",
   "nbconvert_exporter": "python",
   "pygments_lexer": "ipython3",
   "version": "3.8.8"
  }
 },
 "nbformat": 4,
 "nbformat_minor": 5
}
