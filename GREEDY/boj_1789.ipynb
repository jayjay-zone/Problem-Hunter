{
 "cells": [
  {
   "cell_type": "markdown",
   "id": "checked-ordinary",
   "metadata": {},
   "source": [
    "서로 다른 N개의 자연수의 합이 S\n",
    "\n",
    "S를 알때, 자연수 N의 최댓값은?"
   ]
  },
  {
   "cell_type": "markdown",
   "id": "medical-export",
   "metadata": {},
   "source": [
    "-> N이 최대가 되려면, 연속하는 자연수의 합이어야 한다. \n",
    "\n",
    "연속하는 수의 합으로 만들어지지 않으면, 가장 마지막 수를 키우면 N은 동일하다\n",
    "\n",
    "예) \n",
    "- S = 10이면, 1+2+3+4\n",
    "- S = 11이면, 1+2+3+5\n",
    "- S = 14이면, 1+2+3+4+4 (x) 1+2+3+8 (o)\n",
    "    - 10 과 14 는 연속합 마지막 수인 4만큼 차이가 난다 -> 여기까지는 N은 동일\n",
    "- S =15이면, 1+2+3+4+5\n",
    "\n",
    "결론) 연속합을 구하고 부등식으로 해결!"
   ]
  },
  {
   "cell_type": "code",
   "execution_count": 135,
   "id": "stuffed-franchise",
   "metadata": {},
   "outputs": [
    {
     "name": "stdout",
     "output_type": "stream",
     "text": [
      "1\n"
     ]
    }
   ],
   "source": [
    "#limit = int(input())\n",
    "limit = 1\n",
    "cum_sum = [0] # cum_sum i번째 원소 = 0~i까지 더한 값\n",
    "i=0\n",
    "while cum_sum[-1] < limit:\n",
    "    next_val = cum_sum[i] + i +1\n",
    "    cum_sum.append(next_val)\n",
    "    i+=1\n",
    "cum_sum = cum_sum[:-1]\n",
    "i-=1\n",
    "\n",
    "if limit - cum_sum[-1] <= i:\n",
    "    print(i)\n",
    "else:\n",
    "    print(i+1)"
   ]
  },
  {
   "cell_type": "code",
   "execution_count": 138,
   "id": "formal-logic",
   "metadata": {
    "scrolled": true
   },
   "outputs": [
    {
     "data": {
      "text/plain": [
       "42"
      ]
     },
     "execution_count": 138,
     "metadata": {},
     "output_type": "execute_result"
    }
   ],
   "source": [
    "4294967295//100000000"
   ]
  },
  {
   "cell_type": "code",
   "execution_count": null,
   "id": "sustainable-artwork",
   "metadata": {},
   "outputs": [],
   "source": []
  }
 ],
 "metadata": {
  "kernelspec": {
   "display_name": "Python 3",
   "language": "python",
   "name": "python3"
  },
  "language_info": {
   "codemirror_mode": {
    "name": "ipython",
    "version": 3
   },
   "file_extension": ".py",
   "mimetype": "text/x-python",
   "name": "python",
   "nbconvert_exporter": "python",
   "pygments_lexer": "ipython3",
   "version": "3.8.8"
  }
 },
 "nbformat": 4,
 "nbformat_minor": 5
}
