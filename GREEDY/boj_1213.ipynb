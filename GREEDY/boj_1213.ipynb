{
 "cells": [
  {
   "cell_type": "code",
   "execution_count": 2,
   "id": "unsigned-confirmation",
   "metadata": {},
   "outputs": [
    {
     "name": "stdout",
     "output_type": "stream",
     "text": [
      "AABB\n",
      "ABBA\n"
     ]
    }
   ],
   "source": [
    "from collections import Counter\n",
    "#팰린드롬이 되려면, 한 글자 빼고 나머지, 혹은 모든 글자의 등장횟수가 짝수여야 한다\n",
    "\n",
    "def check(cntr):\n",
    "    odd_num_cnt = 0\n",
    "    odd_num_char = ''\n",
    "    for k,v in cntr.items():\n",
    "        if v%2 == 1:\n",
    "            odd_num_cnt+=1\n",
    "            odd_num_char = k\n",
    "    if odd_num_cnt > 1:\n",
    "        return False\n",
    "    else:\n",
    "        return odd_num_char\n",
    "\n",
    "    \n",
    "name = input()\n",
    "cntr = Counter(name)\n",
    "\n",
    "if check(cntr) == False:\n",
    "    print(\"I'm Sorry Hansoo\")\n",
    "else:\n",
    "    if check(cntr) != '':\n",
    "        odd_num_char = check(cntr)\n",
    "        cntr[odd_num_char]-=1\n",
    "    else:\n",
    "        odd_num_char = None\n",
    "        \n",
    "    left = ''\n",
    "    for k, v in sorted(cntr.items(), key=lambda x: x[0]):\n",
    "        for _ in range(v//2):\n",
    "            if cntr[k] > 1:\n",
    "                cntr[k] -= 1\n",
    "                left+=k\n",
    "            else:\n",
    "                pass\n",
    "\n",
    "    res = left\n",
    "    if odd_num_char:\n",
    "        res+=odd_num_char\n",
    "    for l in left[::-1]:\n",
    "        res+=l\n",
    "    print(res)"
   ]
  }
 ],
 "metadata": {
  "kernelspec": {
   "display_name": "Python 3",
   "language": "python",
   "name": "python3"
  },
  "language_info": {
   "codemirror_mode": {
    "name": "ipython",
    "version": 3
   },
   "file_extension": ".py",
   "mimetype": "text/x-python",
   "name": "python",
   "nbconvert_exporter": "python",
   "pygments_lexer": "ipython3",
   "version": "3.8.8"
  }
 },
 "nbformat": 4,
 "nbformat_minor": 5
}
