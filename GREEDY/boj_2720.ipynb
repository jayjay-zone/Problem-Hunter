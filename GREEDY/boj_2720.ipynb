{
 "cells": [
  {
   "cell_type": "markdown",
   "id": "pleased-sheffield",
   "metadata": {},
   "source": [
    "손님이 받는 동전의 개수를 최소로 하려고 한다."
   ]
  },
  {
   "cell_type": "code",
   "execution_count": 30,
   "id": "coral-cover",
   "metadata": {},
   "outputs": [
    {
     "name": "stdout",
     "output_type": "stream",
     "text": [
      "3\n",
      "124\n",
      "25\n",
      "194\n"
     ]
    }
   ],
   "source": [
    "T = int(input())\n",
    "ans2 = []\n",
    "for _ in range(T):\n",
    "    C = int(input())\n",
    "    \n",
    "    units = [25, 10, 5, 1]\n",
    "    ans = []\n",
    "    while C>0:\n",
    "        for unit in units:\n",
    "            a = C//unit\n",
    "            C -= a*unit\n",
    "            ans.append(a)\n",
    "    ans2.append(ans)\n",
    "    \n",
    "for i in ans2:\n",
    "    for j in i:\n",
    "        print(j, end =' ')\n",
    "    print()"
   ]
  },
  {
   "cell_type": "code",
   "execution_count": null,
   "id": "protecting-royalty",
   "metadata": {},
   "outputs": [],
   "source": []
  }
 ],
 "metadata": {
  "kernelspec": {
   "display_name": "Python 3",
   "language": "python",
   "name": "python3"
  },
  "language_info": {
   "codemirror_mode": {
    "name": "ipython",
    "version": 3
   },
   "file_extension": ".py",
   "mimetype": "text/x-python",
   "name": "python",
   "nbconvert_exporter": "python",
   "pygments_lexer": "ipython3",
   "version": "3.8.8"
  }
 },
 "nbformat": 4,
 "nbformat_minor": 5
}
