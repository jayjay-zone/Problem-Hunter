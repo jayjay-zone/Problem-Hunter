{
 "cells": [
  {
   "cell_type": "markdown",
   "id": "c4ec0b5b",
   "metadata": {},
   "source": [
    "## 2. 큰 수의 법칙"
   ]
  },
  {
   "cell_type": "code",
   "execution_count": 59,
   "id": "4d4b649d",
   "metadata": {},
   "outputs": [],
   "source": [
    "# N 배열의 크기 \n",
    "# M 숫자가 더해지는 횟수\n",
    "# 배열의 특정 인덱스의 값이 연속으로 K번을 초과해서 더해질 수 없다\n",
    "N, M, K = 5,8,3\n",
    "arr = [2,4,5,4,6]"
   ]
  },
  {
   "cell_type": "code",
   "execution_count": 60,
   "id": "c6ae00c0",
   "metadata": {},
   "outputs": [],
   "source": [
    "arr = sorted(arr, reverse=True)"
   ]
  },
  {
   "cell_type": "code",
   "execution_count": 61,
   "id": "f9017c41",
   "metadata": {},
   "outputs": [
    {
     "data": {
      "text/plain": [
       "[6, 5, 4, 4, 2]"
      ]
     },
     "execution_count": 61,
     "metadata": {},
     "output_type": "execute_result"
    }
   ],
   "source": [
    "arr"
   ]
  },
  {
   "cell_type": "markdown",
   "id": "3218e049",
   "metadata": {},
   "source": [
    "### 단순한 풀이"
   ]
  },
  {
   "cell_type": "code",
   "execution_count": 65,
   "id": "b2975996",
   "metadata": {},
   "outputs": [],
   "source": [
    "ans = []\n",
    "while len(ans)<M:\n",
    "    for _ in range(K):\n",
    "        ans.append(arr[0])\n",
    "    ans.append(arr[1])"
   ]
  },
  {
   "cell_type": "code",
   "execution_count": 66,
   "id": "a059cccd",
   "metadata": {},
   "outputs": [
    {
     "data": {
      "text/plain": [
       "[6, 6, 6, 5, 6, 6, 6, 5]"
      ]
     },
     "execution_count": 66,
     "metadata": {},
     "output_type": "execute_result"
    }
   ],
   "source": [
    "ans"
   ]
  },
  {
   "cell_type": "markdown",
   "id": "2404e082",
   "metadata": {},
   "source": [
    "### 좀 머리쓴 풀이"
   ]
  },
  {
   "cell_type": "markdown",
   "id": "69fc0ab1",
   "metadata": {},
   "source": [
    "6 6 6 5 / 6 6 6 5 가 어떻게 나왔을까? <br>\n",
    "[가장 큰 수* K + 두번째로 큰 수 * 1]*2 <br>\n",
    "\n"
   ]
  },
  {
   "cell_type": "code",
   "execution_count": 102,
   "id": "21bba20a",
   "metadata": {},
   "outputs": [
    {
     "data": {
      "text/plain": [
       "[]"
      ]
     },
     "execution_count": 102,
     "metadata": {},
     "output_type": "execute_result"
    }
   ],
   "source": [
    "N, M, K = 5, 1, 2\n",
    "arr = [2,4,5,4,6]\n",
    "arr = sorted(arr, reverse=True)\n",
    "\n",
    "[[arr[0]]*K + [arr[1]*1]]*(M//(K+1))"
   ]
  },
  {
   "cell_type": "code",
   "execution_count": 103,
   "id": "3802fc32",
   "metadata": {},
   "outputs": [],
   "source": [
    "ans = []\n",
    "for _ in range(M//(K+1)):\n",
    "    ans.extend([arr[0]]*K)\n",
    "    ans.append(arr[1])\n",
    "left_iter = M - M//(K+1)*(K+1)\n",
    "for _ in range(left_iter):\n",
    "    ans.append(arr[0])"
   ]
  },
  {
   "cell_type": "code",
   "execution_count": 104,
   "id": "555ad352",
   "metadata": {},
   "outputs": [
    {
     "data": {
      "text/plain": [
       "[6]"
      ]
     },
     "execution_count": 104,
     "metadata": {},
     "output_type": "execute_result"
    }
   ],
   "source": [
    "ans"
   ]
  },
  {
   "cell_type": "markdown",
   "id": "4fc21b94",
   "metadata": {},
   "source": [
    "# 처음 접근법이 맞았다.. 내 자신을 믿자!"
   ]
  },
  {
   "cell_type": "markdown",
   "id": "417a3bc2",
   "metadata": {},
   "source": [
    "## 3. 숫자 카드 게임"
   ]
  },
  {
   "cell_type": "code",
   "execution_count": 111,
   "id": "1e5bbcb3",
   "metadata": {},
   "outputs": [
    {
     "name": "stdout",
     "output_type": "stream",
     "text": [
      "3 1 2\n",
      "4 1 4\n",
      "2 2 2\n"
     ]
    }
   ],
   "source": [
    "n, m = 3,3\n",
    "mat = []\n",
    "for _ in range(n):\n",
    "    row = list(map(int, input().split()))\n",
    "    mat.append(row)"
   ]
  },
  {
   "cell_type": "code",
   "execution_count": 112,
   "id": "5875fb3e",
   "metadata": {},
   "outputs": [
    {
     "data": {
      "text/plain": [
       "[[3, 1, 2], [4, 1, 4], [2, 2, 2]]"
      ]
     },
     "execution_count": 112,
     "metadata": {},
     "output_type": "execute_result"
    }
   ],
   "source": [
    "mat"
   ]
  },
  {
   "cell_type": "code",
   "execution_count": 113,
   "id": "b4272564",
   "metadata": {},
   "outputs": [
    {
     "data": {
      "text/plain": [
       "2"
      ]
     },
     "execution_count": 113,
     "metadata": {},
     "output_type": "execute_result"
    }
   ],
   "source": [
    "min_vals = []\n",
    "for row in mat:\n",
    "    min_vals.append(min(row))\n",
    "max(min_vals)"
   ]
  },
  {
   "cell_type": "markdown",
   "id": "23ec1738",
   "metadata": {},
   "source": [
    "## 4. 1이 될 때까지 "
   ]
  },
  {
   "cell_type": "code",
   "execution_count": 120,
   "id": "7f418a73",
   "metadata": {},
   "outputs": [],
   "source": [
    "n, k = 25, 5"
   ]
  },
  {
   "cell_type": "code",
   "execution_count": 121,
   "id": "08b7f764",
   "metadata": {},
   "outputs": [],
   "source": [
    "exec_num = 0\n",
    "while True:\n",
    "    if n % k == 0:\n",
    "        n//=k\n",
    "        exec_num+=1\n",
    "    else:\n",
    "        n -= 1\n",
    "        exec_num+=1\n",
    "    if n == 1:\n",
    "        break\n",
    "    \n",
    "    "
   ]
  },
  {
   "cell_type": "code",
   "execution_count": 122,
   "id": "0828e557",
   "metadata": {},
   "outputs": [
    {
     "data": {
      "text/plain": [
       "2"
      ]
     },
     "execution_count": 122,
     "metadata": {},
     "output_type": "execute_result"
    }
   ],
   "source": [
    "exec_num"
   ]
  },
  {
   "cell_type": "code",
   "execution_count": null,
   "id": "d47dd9bf",
   "metadata": {},
   "outputs": [],
   "source": []
  },
  {
   "cell_type": "code",
   "execution_count": null,
   "id": "2cadbc62",
   "metadata": {},
   "outputs": [],
   "source": []
  }
 ],
 "metadata": {
  "kernelspec": {
   "display_name": "tf20",
   "language": "python",
   "name": "python3"
  },
  "language_info": {
   "codemirror_mode": {
    "name": "ipython",
    "version": 3
   },
   "file_extension": ".py",
   "mimetype": "text/x-python",
   "name": "python",
   "nbconvert_exporter": "python",
   "pygments_lexer": "ipython3",
   "version": "3.8.13"
  }
 },
 "nbformat": 4,
 "nbformat_minor": 5
}
