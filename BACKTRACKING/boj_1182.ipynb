{
 "cells": [
  {
   "cell_type": "code",
   "execution_count": 1,
   "id": "loose-credit",
   "metadata": {},
   "outputs": [
    {
     "name": "stdout",
     "output_type": "stream",
     "text": [
      "-7 -3 -2 5 8\n"
     ]
    }
   ],
   "source": [
    "n, s = 5, 0\n",
    "arr = list(map(int, input().split()))"
   ]
  },
  {
   "cell_type": "markdown",
   "id": "alert-wells",
   "metadata": {},
   "source": [
    "합이 s가 되는 수열들:[-3,-2,5]"
   ]
  },
  {
   "cell_type": "code",
   "execution_count": 54,
   "id": "voluntary-personal",
   "metadata": {},
   "outputs": [
    {
     "name": "stdout",
     "output_type": "stream",
     "text": [
      "0\n",
      "1\n",
      "2\n",
      "3\n",
      "4\n"
     ]
    }
   ],
   "source": [
    "sum_arr = [0]\n",
    "for i in range(len(arr)):\n",
    "    print(i)\n",
    "    next_val = sum_arr[i]+arr[i]\n",
    "    sum_arr.append(next_val)"
   ]
  },
  {
   "cell_type": "code",
   "execution_count": 55,
   "id": "liked-barrel",
   "metadata": {},
   "outputs": [
    {
     "data": {
      "text/plain": [
       "[0, -7, -10, -12, -7, 1]"
      ]
     },
     "execution_count": 55,
     "metadata": {},
     "output_type": "execute_result"
    }
   ],
   "source": [
    "sum_arr"
   ]
  },
  {
   "cell_type": "code",
   "execution_count": 39,
   "id": "horizontal-generation",
   "metadata": {},
   "outputs": [
    {
     "name": "stdout",
     "output_type": "stream",
     "text": [
      "-7 -7 0 3\n"
     ]
    }
   ],
   "source": [
    "cnt = 0\n",
    "for i in range(len(sum_arr)):\n",
    "    anchor = sum_arr[i]\n",
    "    for j in range(i+1, len(sum_arr)):\n",
    "        diff = sum_arr[j] - sum_arr[i]\n",
    "        if diff == s:\n",
    "            cnt+=1\n",
    "            "
   ]
  },
  {
   "cell_type": "code",
   "execution_count": 65,
   "id": "controlled-excellence",
   "metadata": {},
   "outputs": [
    {
     "name": "stdout",
     "output_type": "stream",
     "text": [
      "3 3\n",
      "1 1 1\n",
      "1\n"
     ]
    }
   ],
   "source": [
    "n, s = map(int, input().split())\n",
    "arr = list(map(int, input().split()))\n",
    "\n",
    "sum_arr = [0]\n",
    "for i in range(len(arr)):\n",
    "    next_val = sum_arr[i]+arr[i]\n",
    "    sum_arr.append(next_val)\n",
    "    \n",
    "cnt = 0\n",
    "for i in range(len(sum_arr)):\n",
    "    anchor = sum_arr[i]\n",
    "    for j in range(i+1, len(sum_arr)):\n",
    "        diff = sum_arr[j] - sum_arr[i]\n",
    "        if diff == s:\n",
    "            cnt+=1\n",
    "            \n",
    "print(cnt)"
   ]
  },
  {
   "cell_type": "markdown",
   "id": "terminal-glenn",
   "metadata": {},
   "source": [
    "# 연속된 부분 수열이 아님에 주의!"
   ]
  },
  {
   "cell_type": "code",
   "execution_count": null,
   "id": "included-third",
   "metadata": {},
   "outputs": [],
   "source": [
    "# 백트래킹으로 풀어보면 다음과 같단다\n",
    "def subset_num(idx, sub_sum):\n",
    "    global cnt\n",
    "    if idx >= n:\n",
    "        return \n",
    "    sub_sum += arr[idx]\n",
    "    if sub_sum ==s:\n",
    "        cnt+=1\n",
    "    subset_sum(idx+1, sub_sum)\n",
    "    subset_sum(idx+1, sub_sum-arr[idx])"
   ]
  }
 ],
 "metadata": {
  "kernelspec": {
   "display_name": "Python 3",
   "language": "python",
   "name": "python3"
  },
  "language_info": {
   "codemirror_mode": {
    "name": "ipython",
    "version": 3
   },
   "file_extension": ".py",
   "mimetype": "text/x-python",
   "name": "python",
   "nbconvert_exporter": "python",
   "pygments_lexer": "ipython3",
   "version": "3.8.8"
  }
 },
 "nbformat": 4,
 "nbformat_minor": 5
}
