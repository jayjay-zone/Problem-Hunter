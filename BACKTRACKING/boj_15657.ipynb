{
 "cells": [
  {
   "cell_type": "code",
   "execution_count": 88,
   "id": "concerned-binary",
   "metadata": {},
   "outputs": [],
   "source": [
    "# 조합 + 근데 자기 자신 도 다시 뽑을 수 있음"
   ]
  },
  {
   "cell_type": "code",
   "execution_count": 122,
   "id": "recorded-substance",
   "metadata": {},
   "outputs": [],
   "source": [
    "def comb(arr, n):\n",
    "    if n == 0:\n",
    "        return [[]]\n",
    "    result = []\n",
    "    for i in range(len(arr)):\n",
    "        res_arr = [arr[i]]\n",
    "        for i in comb(arr[i:], n-1):\n",
    "            result.append(res_arr+i)\n",
    "\n",
    "            \n",
    "    return result"
   ]
  },
  {
   "cell_type": "code",
   "execution_count": 130,
   "id": "saved-stuff",
   "metadata": {},
   "outputs": [
    {
     "name": "stdout",
     "output_type": "stream",
     "text": [
      "4 2\n",
      "9 8 7 1\n"
     ]
    }
   ],
   "source": [
    "n,m = map(int,input().split())\n",
    "arr = sorted(list(map(int, input().split())))"
   ]
  },
  {
   "cell_type": "code",
   "execution_count": 132,
   "id": "appointed-transportation",
   "metadata": {},
   "outputs": [
    {
     "name": "stdout",
     "output_type": "stream",
     "text": [
      "1 1 \n",
      "1 7 \n",
      "1 8 \n",
      "1 9 \n",
      "7 7 \n",
      "7 8 \n",
      "7 9 \n",
      "8 8 \n",
      "8 9 \n",
      "9 9 \n"
     ]
    }
   ],
   "source": [
    "for a in comb(arr,m):\n",
    "    for i in range(len(a)):\n",
    "        print(a[i], end =' ')\n",
    "    print()"
   ]
  },
  {
   "cell_type": "code",
   "execution_count": null,
   "id": "genetic-future",
   "metadata": {},
   "outputs": [],
   "source": []
  }
 ],
 "metadata": {
  "kernelspec": {
   "display_name": "Python 3",
   "language": "python",
   "name": "python3"
  },
  "language_info": {
   "codemirror_mode": {
    "name": "ipython",
    "version": 3
   },
   "file_extension": ".py",
   "mimetype": "text/x-python",
   "name": "python",
   "nbconvert_exporter": "python",
   "pygments_lexer": "ipython3",
   "version": "3.8.8"
  }
 },
 "nbformat": 4,
 "nbformat_minor": 5
}
