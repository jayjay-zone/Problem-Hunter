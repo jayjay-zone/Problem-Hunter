{
 "cells": [
  {
   "cell_type": "markdown",
   "id": "pregnant-lucas",
   "metadata": {},
   "source": [
    "# itertools없이 구현하기"
   ]
  },
  {
   "cell_type": "markdown",
   "id": "stainless-heath",
   "metadata": {},
   "source": [
    "premutation과 combination은 기본적으로 재귀적인 성질을 가지고 있다."
   ]
  },
  {
   "cell_type": "markdown",
   "id": "ordered-creator",
   "metadata": {},
   "source": [
    "### permutation"
   ]
  },
  {
   "cell_type": "markdown",
   "id": "acute-suite",
   "metadata": {},
   "source": [
    "예를 들어, arr = [1,2,3], n=3일 때의 permutation을 구해보자\n",
    "\n",
    "permutation의 경우를 첫번쨰 오는 수로 나눠보면,\n",
    "1. 1이 가장 첫번째 오는 경우\n",
    "    - [1,2,3] [1,3,2]\n",
    "2. 2가 가장 첫번째 오는 경우\n",
    "    - [2,1,3] [2,3,1]\n",
    "3. 3가 가장 첫번째 오는 경우\n",
    "    - [3,1,2] [3,2,1]"
   ]
  },
  {
   "cell_type": "markdown",
   "id": "variable-collapse",
   "metadata": {},
   "source": [
    "1이 가장 첫번째 오는 경우 [2,3]과 [3,2]가 이어지는데,\n",
    "이는 [2,3]의 permutation과 동일하다"
   ]
  },
  {
   "cell_type": "markdown",
   "id": "coupled-arrow",
   "metadata": {},
   "source": [
    "이를 공식으로 나타내면, \n",
    "\n",
    "permutation([1,2,3], 3) = [1,permutation([2,3], 2)] +  [2,permutation([1,3],2)] +  [3,permutation([2,1], 2)] \n",
    "\n",
    "\n"
   ]
  },
  {
   "cell_type": "markdown",
   "id": "looking-dynamics",
   "metadata": {},
   "source": [
    "이를 재귀함수로 구현해자.\n",
    "\n",
    "명심할 것은, 재귀함수에는 꼭 **초기값**이 들어가야 한다는 것이다."
   ]
  },
  {
   "cell_type": "code",
   "execution_count": 99,
   "id": "impressed-speed",
   "metadata": {},
   "outputs": [],
   "source": [
    "def permutation(arr, n):\n",
    "    assert n <= len(arr)\n",
    "    result = []\n",
    "    \n",
    "    if n == 0:\n",
    "        return [[]]\n",
    "    \n",
    "    for i in range(len(arr)):\n",
    "        res_arr = [arr[i]]\n",
    "        for p in permutation(arr[:i]+arr[i+1:], n-1):\n",
    "            result +=[res_arr+p]\n",
    "    return result\n",
    "            "
   ]
  },
  {
   "cell_type": "code",
   "execution_count": 104,
   "id": "lesbian-yacht",
   "metadata": {},
   "outputs": [
    {
     "data": {
      "text/plain": [
       "[[1, 2], [1, 3], [2, 1], [2, 3], [3, 1], [3, 2]]"
      ]
     },
     "execution_count": 104,
     "metadata": {},
     "output_type": "execute_result"
    }
   ],
   "source": [
    "permutation([1,2,3], 2)"
   ]
  },
  {
   "cell_type": "markdown",
   "id": "seven-faculty",
   "metadata": {},
   "source": [
    "### combination"
   ]
  },
  {
   "cell_type": "markdown",
   "id": "medium-hazard",
   "metadata": {},
   "source": [
    "예를 들어, arr = [0,1,2,3], n=2일 때의 combination 구해보자\n",
    "\n",
    "combination 경우, 순서를 고려하지 않기 때문에, 반드시 들어가는 원소를 정하는 방식으로 경우를 나눠본다\n",
    "1. 0이 꼭 들어가는 경우\n",
    "    - [0,1][0,2][0,3]\n",
    "    - [0] + [1,2,3]에서 1개를 고르는 방법\n",
    "2. 1이 꼭 들어가는 경우\n",
    "    - [1,2][1,3]\n",
    "    - [1] + [2,3]에서 1개를 고르는 방법\n",
    "    - 앞에서 0이 꼭 들어가는 경우를 고려했으므로, 0,1을 뺀 나머지 수열에서 1개를 고른다\n",
    "3. 2가 꼭 들어가는 경우\n",
    "    - [2,3]\n",
    "    - [2] + [3]에서 1개를 고르는 방법\n",
    "    - 0,1,2를 뺀 나머지 수열에서 1개를 고른다"
   ]
  },
  {
   "cell_type": "code",
   "execution_count": 160,
   "id": "enclosed-pizza",
   "metadata": {},
   "outputs": [],
   "source": [
    "def gen_combinations(arr, n):\n",
    "    result =[] \n",
    "\n",
    "    if n == 0: \n",
    "        return [[]]\n",
    "\n",
    "    for i in range(0, len(arr)): \n",
    "        elem = arr[i] \n",
    "        rest_arr = arr[i + 1:] \n",
    "        for C in gen_combinations(rest_arr, n-1): \n",
    "            result.append([elem]+C) \n",
    "              \n",
    "    return result\n"
   ]
  },
  {
   "cell_type": "code",
   "execution_count": 162,
   "id": "afraid-salon",
   "metadata": {},
   "outputs": [
    {
     "data": {
      "text/plain": [
       "[[0], [1]]"
      ]
     },
     "execution_count": 162,
     "metadata": {},
     "output_type": "execute_result"
    }
   ],
   "source": [
    "gen_combinations([0,1],1)"
   ]
  },
  {
   "cell_type": "code",
   "execution_count": null,
   "id": "quick-irish",
   "metadata": {},
   "outputs": [],
   "source": []
  },
  {
   "cell_type": "code",
   "execution_count": null,
   "id": "polished-desire",
   "metadata": {},
   "outputs": [],
   "source": []
  }
 ],
 "metadata": {
  "kernelspec": {
   "display_name": "Python 3",
   "language": "python",
   "name": "python3"
  },
  "language_info": {
   "codemirror_mode": {
    "name": "ipython",
    "version": 3
   },
   "file_extension": ".py",
   "mimetype": "text/x-python",
   "name": "python",
   "nbconvert_exporter": "python",
   "pygments_lexer": "ipython3",
   "version": "3.8.8"
  }
 },
 "nbformat": 4,
 "nbformat_minor": 5
}
