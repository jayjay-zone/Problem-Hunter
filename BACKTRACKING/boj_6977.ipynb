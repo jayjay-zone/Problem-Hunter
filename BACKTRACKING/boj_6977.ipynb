{
 "cells": [
  {
   "cell_type": "markdown",
   "id": "fancy-johnston",
   "metadata": {},
   "source": [
    "n,k 두 숫자를 반복해서 읽는 프로그램을 작성하라.\n",
    "길이 n의 k개의 1로 이루어진 모든 비트 패턴을 프린트하라.\n"
   ]
  },
  {
   "cell_type": "markdown",
   "id": "advanced-secondary",
   "metadata": {},
   "source": [
    "n = 4\n",
    "k = 2\n",
    "\n",
    "The bit patterns are\n",
    "1100\n",
    "1010\n",
    "1001\n",
    "0110\n",
    "0101\n",
    "0011"
   ]
  },
  {
   "cell_type": "code",
   "execution_count": null,
   "id": "expected-crash",
   "metadata": {},
   "outputs": [],
   "source": [
    "from itertools import combinations\n",
    "\n",
    "S = int(input())\n",
    "for _ in range(S):\n",
    "    n,k = map(int, input().split())\n",
    "    print('The bit patterns are')\n",
    "    for nums in list(combinations(range(n), k)):\n",
    "        txt = ['0']*n\n",
    "        for i in nums:\n",
    "            txt[i] = '1'\n",
    "        print(''.join(txt))\n",
    "    print()"
   ]
  },
  {
   "cell_type": "code",
   "execution_count": null,
   "id": "harmful-glory",
   "metadata": {},
   "outputs": [],
   "source": []
  }
 ],
 "metadata": {
  "kernelspec": {
   "display_name": "Python 3",
   "language": "python",
   "name": "python3"
  },
  "language_info": {
   "codemirror_mode": {
    "name": "ipython",
    "version": 3
   },
   "file_extension": ".py",
   "mimetype": "text/x-python",
   "name": "python",
   "nbconvert_exporter": "python",
   "pygments_lexer": "ipython3",
   "version": "3.8.8"
  }
 },
 "nbformat": 4,
 "nbformat_minor": 5
}
