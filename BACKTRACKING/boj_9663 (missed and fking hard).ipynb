{
 "cells": [
  {
   "cell_type": "code",
   "execution_count": 160,
   "id": "rental-postage",
   "metadata": {},
   "outputs": [],
   "source": [
    "# 재귀 종료 조건\n",
    "# 어느 줄이라도 퀸을 놓을 수 없는 줄이 존재하면 종료\n",
    "# 마지막 줄에 도달하면 종료\n",
    "\n",
    "# 퀸을 놓을 수 없는 조건\n",
    "# 같은 열에 퀸이 있는 경우\n",
    "# 왼쪽 오른쪽 대각선에 퀸이 있는 경우 \n",
    "#-> 퀸을 맨 윗 행부터 채우고 있기 때문에, 대각선을 확인할 때, 현재i보다 큰 값을 확인할 필요없이, i보다 작은 곳만 확인하면 된다\n",
    "\n",
    "# row별로 돌면서 퀸을 놓고 같은 열에 퀸이 있으면 놓지 않는다 row[x] 가 있으면..\n"
   ]
  },
  {
   "cell_type": "code",
   "execution_count": null,
   "id": "impressed-lucas",
   "metadata": {},
   "outputs": [],
   "source": [
    "# row[i] = k means, ith row, kth col에 queen이 있다"
   ]
  },
  {
   "cell_type": "code",
   "execution_count": 161,
   "id": "after-relaxation",
   "metadata": {},
   "outputs": [],
   "source": [
    "def is_promising(x):\n",
    "    # x: row num\n",
    "    # 같은 열, 왼쪽, 오른쪽 대각선에 없어야한다\n",
    "    for i in range(N):\n",
    "        if row[x] == row[i]: # 같은 열이면 안됨\n",
    "            return False\n",
    "        if abs(row[x] - row[i]) == abs(x-i): #대각선에 있어도 안됨\n",
    "            return False\n",
    "        return True"
   ]
  },
  {
   "cell_type": "code",
   "execution_count": null,
   "id": "caring-julian",
   "metadata": {},
   "outputs": [],
   "source": [
    "def n_queens(x):\n",
    "    # 첫번째 row부터 탐색할 거다\n",
    "    global ans\n",
    "    if x == N: #마지막 행까지 갔을 때 모든 퀸을 놓게 되는 경우가 하나 만들어진다\n",
    "        ans+=1\n",
    "    else:\n",
    "        for i in range(N): #이번 row의 열들을 하나씩 확인한다\n",
    "            row[x] = i # place queen\n",
    "            if is_promising(x):\n",
    "                n_queens(x+1) # promising하면 다음 행으로 넘어간다\n",
    "                # promising 하지않으면 다음 for loop을 타고, 다음 열에 퀸을 배치한다\n",
    "            "
   ]
  },
  {
   "cell_type": "code",
   "execution_count": null,
   "id": "historical-trail",
   "metadata": {},
   "outputs": [],
   "source": [
    "#N-Queen\n",
    "#N-Queen 문제는 크기가 N × N인 체스판 위에 퀸 N개를 서로 공격할 수 없게 놓는 문제이다.\n",
    "#N이 주어졌을 때, 퀸을 놓는 방법의 수를 구하는 프로그램을 작성하시오.\n",
    "import sys\n",
    "n = int(sys.stdin.readline().rstrip())\n",
    "\n",
    "ans = 0\n",
    "row = [0] * n\n",
    "\n",
    "def is_promising(x):\n",
    "    for i in range(x):\n",
    "        if row[x] == row[i] or abs(row[x] - row[i]) == abs(x - i):\n",
    "            return False\n",
    "    \n",
    "    return True\n",
    "\n",
    "def n_queens(x):\n",
    "    global ans\n",
    "    if x == n:\n",
    "        ans += 1\n",
    "\n",
    "    else:\n",
    "        for i in range(n):\n",
    "            # [x, i]에 퀸을 놓겠다.\n",
    "            row[x] = i\n",
    "            if is_promising(x):\n",
    "                n_queens(x+1)\n",
    "\n",
    "n_queens(0)\n",
    "print(ans)"
   ]
  },
  {
   "cell_type": "code",
   "execution_count": null,
   "id": "polished-testimony",
   "metadata": {},
   "outputs": [],
   "source": []
  },
  {
   "cell_type": "code",
   "execution_count": null,
   "id": "chinese-expense",
   "metadata": {},
   "outputs": [],
   "source": []
  },
  {
   "cell_type": "code",
   "execution_count": null,
   "id": "earlier-township",
   "metadata": {},
   "outputs": [],
   "source": []
  },
  {
   "cell_type": "code",
   "execution_count": null,
   "id": "capital-chair",
   "metadata": {},
   "outputs": [],
   "source": []
  },
  {
   "cell_type": "code",
   "execution_count": 154,
   "id": "applied-conservation",
   "metadata": {},
   "outputs": [],
   "source": [
    "from collections import deque\n",
    "\n",
    "def get_attackable_loc(x,y, attackable):\n",
    "    directions = [[1,0],[0,1],[-1,0],[0,-1], [1,1],[-1,-1],[1,-1],[-1,1]]\n",
    "    \n",
    "    # fix the location of ith queen and search her attackable locs\n",
    "    attackable.append([x,y])\n",
    "    for i in range(len(directions)):\n",
    "        dx, dy = directions[i]\n",
    "        for n in range(N): #queen은 한번에 1~N칸 까지 갈 수 있다\n",
    "            new_x, new_y = x+(dx*n), y+(dy*n)\n",
    "            if 0 <=new_x<N and 0<=new_y<N and [new_x, new_y] not in attackable:\n",
    "                attackable.append([new_x,new_y])\n",
    "    return attackable\n",
    "\n"
   ]
  },
  {
   "cell_type": "code",
   "execution_count": 155,
   "id": "rolled-devil",
   "metadata": {},
   "outputs": [],
   "source": [
    "graph = []\n",
    "for _ in range(N):\n",
    "    row = ['.']*N\n",
    "    graph.append(row)"
   ]
  },
  {
   "cell_type": "code",
   "execution_count": 159,
   "id": "alpine-factor",
   "metadata": {},
   "outputs": [
    {
     "name": "stdout",
     "output_type": "stream",
     "text": [
      "0 0\n"
     ]
    },
    {
     "ename": "ValueError",
     "evalue": "deque.remove(x): x not in deque",
     "output_type": "error",
     "traceback": [
      "\u001b[0;31m---------------------------------------------------------------------------\u001b[0m",
      "\u001b[0;31mValueError\u001b[0m                                Traceback (most recent call last)",
      "\u001b[0;32m<ipython-input-159-4e45239aa61a>\u001b[0m in \u001b[0;36m<module>\u001b[0;34m\u001b[0m\n\u001b[1;32m     10\u001b[0m     \u001b[0mattackable\u001b[0m \u001b[0;34m=\u001b[0m \u001b[0mget_attackable_loc\u001b[0m\u001b[0;34m(\u001b[0m\u001b[0mnx\u001b[0m\u001b[0;34m,\u001b[0m\u001b[0mny\u001b[0m\u001b[0;34m,\u001b[0m \u001b[0mattackable\u001b[0m\u001b[0;34m)\u001b[0m\u001b[0;34m\u001b[0m\u001b[0;34m\u001b[0m\u001b[0m\n\u001b[1;32m     11\u001b[0m     \u001b[0;32mfor\u001b[0m \u001b[0mpoint\u001b[0m \u001b[0;32min\u001b[0m \u001b[0mattackable\u001b[0m\u001b[0;34m:\u001b[0m\u001b[0;34m\u001b[0m\u001b[0;34m\u001b[0m\u001b[0m\n\u001b[0;32m---> 12\u001b[0;31m         \u001b[0mavailable\u001b[0m\u001b[0;34m.\u001b[0m\u001b[0mremove\u001b[0m\u001b[0;34m(\u001b[0m\u001b[0mpoint\u001b[0m\u001b[0;34m)\u001b[0m\u001b[0;34m\u001b[0m\u001b[0;34m\u001b[0m\u001b[0m\n\u001b[0m\u001b[1;32m     13\u001b[0m   \u001b[0;31m#  print('attack',attackable)\u001b[0m\u001b[0;34m\u001b[0m\u001b[0;34m\u001b[0m\u001b[0;34m\u001b[0m\u001b[0m\n\u001b[1;32m     14\u001b[0m     \u001b[0;32mfor\u001b[0m \u001b[0mn\u001b[0m \u001b[0;32min\u001b[0m \u001b[0mrange\u001b[0m\u001b[0;34m(\u001b[0m\u001b[0mN\u001b[0m\u001b[0;34m)\u001b[0m\u001b[0;34m:\u001b[0m\u001b[0;34m\u001b[0m\u001b[0;34m\u001b[0m\u001b[0m\n",
      "\u001b[0;31mValueError\u001b[0m: deque.remove(x): x not in deque"
     ]
    }
   ],
   "source": [
    "N = 3\n",
    "attackable = []\n",
    "available = deque([[0,0]])\n",
    "num_queen = 1\n",
    "\n",
    "while len(available) > 0:\n",
    "    nx,ny = available.popleft() #next_queen\n",
    "    graph[nx][ny] = num_queen\n",
    "    print(nx,ny)\n",
    "    attackable = get_attackable_loc(nx,ny, attackable)\n",
    "    available =\n",
    "    for point in attackable:\n",
    "        available.remove(point)\n",
    "  #  print('attack',attackable)\n",
    "    for n in range(N):\n",
    "        for m in range(N):\n",
    "            if [n,m] not in attackable:\n",
    "                available.append([n,m])\n",
    "    print(available)\n",
    "    num_queen+=1"
   ]
  },
  {
   "cell_type": "code",
   "execution_count": null,
   "id": "introductory-reverse",
   "metadata": {},
   "outputs": [],
   "source": []
  },
  {
   "cell_type": "code",
   "execution_count": null,
   "id": "considered-economics",
   "metadata": {},
   "outputs": [],
   "source": []
  },
  {
   "cell_type": "code",
   "execution_count": null,
   "id": "solar-sierra",
   "metadata": {},
   "outputs": [],
   "source": []
  },
  {
   "cell_type": "code",
   "execution_count": null,
   "id": "right-jewel",
   "metadata": {},
   "outputs": [],
   "source": []
  }
 ],
 "metadata": {
  "kernelspec": {
   "display_name": "Python 3",
   "language": "python",
   "name": "python3"
  },
  "language_info": {
   "codemirror_mode": {
    "name": "ipython",
    "version": 3
   },
   "file_extension": ".py",
   "mimetype": "text/x-python",
   "name": "python",
   "nbconvert_exporter": "python",
   "pygments_lexer": "ipython3",
   "version": "3.8.8"
  }
 },
 "nbformat": 4,
 "nbformat_minor": 5
}
