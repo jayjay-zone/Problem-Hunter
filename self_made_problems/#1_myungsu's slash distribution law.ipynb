{
 "cells": [
  {
   "cell_type": "markdown",
   "id": "cec15284",
   "metadata": {},
   "source": [
    "## 명수의 슬래시 분배법칙\n",
    "문제 유형: [문자열, 정규표현식]\n",
    "\n",
    "명수는 문자열에 /와 공백이 등장하는 경우, /를 기준으로 나뉘어진 문자를 공백 전, 후의 단어에 분배하고 싶습니다. <br>\n",
    "예를 들면 다음과 같습니다.\n",
    "\n",
    "예1) '강아지 사료/간식' -> 강아지 사료, 강아지 간식 <br>\n",
    "예2) '체크/단색 코트' -> 체크 코트, 단색 코트<br>\n",
    "\n",
    "어떻게 해야될까요? (단, /는 문자열에서 단 한번만 나옵니다)"
   ]
  },
  {
   "cell_type": "code",
   "execution_count": 14,
   "id": "c2728de9",
   "metadata": {},
   "outputs": [],
   "source": [
    "def func(text):\n",
    "    import re\n",
    "    from collections import deque\n",
    "\n",
    "    st_idx, end_idx = re.search('[\\w]+/[\\w]+', text).span()\n",
    "    slash_arr = deque(text[st_idx:end_idx].split('/'))\n",
    "\n",
    "    res = []\n",
    "    while len(slash_arr) > 0:\n",
    "        ans = ''\n",
    "        for i in range(len(text)):\n",
    "            if i < st_idx:\n",
    "                 ans += text[i]            \n",
    "            elif st_idx == i:\n",
    "                slash_str = slash_arr.popleft() #기본/체크 \n",
    "                ans+=slash_str\n",
    "            elif i >= end_idx:\n",
    "                ans += text[i]\n",
    "        res.append(ans)\n",
    "    return res"
   ]
  },
  {
   "cell_type": "code",
   "execution_count": 16,
   "id": "2637082d",
   "metadata": {},
   "outputs": [
    {
     "data": {
      "text/plain": [
       "['강아지 사료', '강아지 간식']"
      ]
     },
     "execution_count": 16,
     "metadata": {},
     "output_type": "execute_result"
    }
   ],
   "source": [
    "text = '강아지 사료/간식'\n",
    "func(text)"
   ]
  },
  {
   "cell_type": "code",
   "execution_count": 17,
   "id": "643da572",
   "metadata": {},
   "outputs": [
    {
     "data": {
      "text/plain": [
       "['체크 코트', '단색 코트']"
      ]
     },
     "execution_count": 17,
     "metadata": {},
     "output_type": "execute_result"
    }
   ],
   "source": [
    "text = '체크/단색 코트'\n",
    "func(text)"
   ]
  },
  {
   "cell_type": "code",
   "execution_count": 19,
   "id": "0e83d03d",
   "metadata": {},
   "outputs": [
    {
     "data": {
      "text/plain": [
       "['여성 체크 코트 스몰', '여성 단색 코트 스몰']"
      ]
     },
     "execution_count": 19,
     "metadata": {},
     "output_type": "execute_result"
    }
   ],
   "source": [
    "text = '여성 체크/단색 코트 스몰'\n",
    "func(text)"
   ]
  },
  {
   "cell_type": "markdown",
   "id": "3e45e58d",
   "metadata": {},
   "source": [
    " (분배법칙이랑 비슷할 것 같은데, 스택을 이용해서 풀 수 있을까?)"
   ]
  },
  {
   "cell_type": "code",
   "execution_count": null,
   "id": "bbae88ef",
   "metadata": {},
   "outputs": [],
   "source": []
  }
 ],
 "metadata": {
  "kernelspec": {
   "display_name": "tf20",
   "language": "python",
   "name": "python3"
  },
  "language_info": {
   "codemirror_mode": {
    "name": "ipython",
    "version": 3
   },
   "file_extension": ".py",
   "mimetype": "text/x-python",
   "name": "python",
   "nbconvert_exporter": "python",
   "pygments_lexer": "ipython3",
   "version": "3.8.13"
  }
 },
 "nbformat": 4,
 "nbformat_minor": 5
}
